{
  "nbformat": 4,
  "nbformat_minor": 0,
  "metadata": {
    "colab": {
      "name": "CS1_Custom_Classifier",
      "provenance": [],
      "collapsed_sections": [
        "oOeE0c8XgQId",
        "DlNjNKmp52z3",
        "Cnx3rXQ8--HT",
        "h03l97L9XR2M",
        "Y0ekuL67ZeY1",
        "bGTWP784dbyI",
        "sLw347nk4AyP"
      ]
    },
    "kernelspec": {
      "display_name": "Python 3",
      "name": "python3"
    },
    "language_info": {
      "name": "python"
    }
  },
  "cells": [
    {
      "cell_type": "markdown",
      "metadata": {
        "id": "GPAfldYZYjoz"
      },
      "source": [
        "# Material Backorder prediction: Custom Stacking Classifier"
      ]
    },
    {
      "cell_type": "code",
      "metadata": {
        "id": "xyrULTuzHVFF"
      },
      "source": [
        "#Importing libraries\n",
        "import pandas as pd\n",
        "import numpy as np\n",
        "import seaborn as sns\n",
        "import matplotlib.pyplot as plt\n",
        " \n",
        " \n",
        "from sklearn.model_selection import cross_val_score\n",
        "from sklearn.metrics import confusion_matrix\n",
        "from sklearn.metrics import roc_auc_score,classification_report,f1_score,recall_score\n",
        "from sklearn.tree import DecisionTreeClassifier\n",
        "from lightgbm import LGBMClassifier\n",
        "from sklearn.ensemble import GradientBoostingClassifier,RandomForestClassifier\n",
        " \n",
        " #from imblearn.over_sampling import SMOTE\n",
        "from collections import Counter\n",
        "from prettytable import PrettyTable\n",
        "import joblib"
      ],
      "execution_count": null,
      "outputs": []
    },
    {
      "cell_type": "code",
      "metadata": {
        "colab": {
          "base_uri": "https://localhost:8080/"
        },
        "id": "0B5AjNzb-GIM",
        "outputId": "6d023f03-48b6-4fa8-e778-32378bed1e47"
      },
      "source": [
        "!pip install catboost"
      ],
      "execution_count": null,
      "outputs": [
        {
          "output_type": "stream",
          "name": "stdout",
          "text": [
            "Collecting catboost\n",
            "  Downloading catboost-0.26.1-cp37-none-manylinux1_x86_64.whl (67.4 MB)\n",
            "\u001b[K     |████████████████████████████████| 67.4 MB 30 kB/s \n",
            "\u001b[?25hRequirement already satisfied: matplotlib in /usr/local/lib/python3.7/dist-packages (from catboost) (3.2.2)\n",
            "Requirement already satisfied: pandas>=0.24.0 in /usr/local/lib/python3.7/dist-packages (from catboost) (1.1.5)\n",
            "Requirement already satisfied: numpy>=1.16.0 in /usr/local/lib/python3.7/dist-packages (from catboost) (1.19.5)\n",
            "Requirement already satisfied: six in /usr/local/lib/python3.7/dist-packages (from catboost) (1.15.0)\n",
            "Requirement already satisfied: plotly in /usr/local/lib/python3.7/dist-packages (from catboost) (4.4.1)\n",
            "Requirement already satisfied: scipy in /usr/local/lib/python3.7/dist-packages (from catboost) (1.4.1)\n",
            "Requirement already satisfied: graphviz in /usr/local/lib/python3.7/dist-packages (from catboost) (0.10.1)\n",
            "Requirement already satisfied: pytz>=2017.2 in /usr/local/lib/python3.7/dist-packages (from pandas>=0.24.0->catboost) (2018.9)\n",
            "Requirement already satisfied: python-dateutil>=2.7.3 in /usr/local/lib/python3.7/dist-packages (from pandas>=0.24.0->catboost) (2.8.2)\n",
            "Requirement already satisfied: kiwisolver>=1.0.1 in /usr/local/lib/python3.7/dist-packages (from matplotlib->catboost) (1.3.1)\n",
            "Requirement already satisfied: pyparsing!=2.0.4,!=2.1.2,!=2.1.6,>=2.0.1 in /usr/local/lib/python3.7/dist-packages (from matplotlib->catboost) (2.4.7)\n",
            "Requirement already satisfied: cycler>=0.10 in /usr/local/lib/python3.7/dist-packages (from matplotlib->catboost) (0.10.0)\n",
            "Requirement already satisfied: retrying>=1.3.3 in /usr/local/lib/python3.7/dist-packages (from plotly->catboost) (1.3.3)\n",
            "Installing collected packages: catboost\n",
            "Successfully installed catboost-0.26.1\n"
          ]
        }
      ]
    },
    {
      "cell_type": "code",
      "metadata": {
        "colab": {
          "base_uri": "https://localhost:8080/"
        },
        "id": "5KOIjn7J7_LC",
        "outputId": "9b543d9c-fdc4-4836-8b2a-30e5935df364"
      },
      "source": [
        "#get data\n",
        "!wget --header=\"Host: raw.githubusercontent.com\" --header=\"User-Agent: Mozilla/5.0 (Windows NT 6.1; Win64; x64) AppleWebKit/537.36 (KHTML, like Gecko) Chrome/91.0.4472.106 Safari/537.36\" --header=\"Accept: text/html,application/xhtml+xml,application/xml;q=0.9,image/avif,image/webp,image/apng,*/*;q=0.8,application/signed-exchange;v=b3;q=0.9\" --header=\"Accept-Language: en-IN,en-GB;q=0.9,en-US;q=0.8,en;q=0.7\" --header=\"Referer: https://colab.research.google.com/\" \"https://raw.githubusercontent.com/rodrigosantis1/backorder_prediction/58e81b4a1ac67db3605456a5fedfe40eaa9d76ad/dataset.rar\" -c -O 'dataset.rar'"
      ],
      "execution_count": null,
      "outputs": [
        {
          "output_type": "stream",
          "name": "stdout",
          "text": [
            "--2021-09-05 02:28:37--  https://raw.githubusercontent.com/rodrigosantis1/backorder_prediction/58e81b4a1ac67db3605456a5fedfe40eaa9d76ad/dataset.rar\n",
            "Resolving raw.githubusercontent.com (raw.githubusercontent.com)... 185.199.111.133, 185.199.108.133, 185.199.109.133, ...\n",
            "Connecting to raw.githubusercontent.com (raw.githubusercontent.com)|185.199.111.133|:443... connected.\n",
            "HTTP request sent, awaiting response... 200 OK\n",
            "Length: 24741696 (24M) [application/octet-stream]\n",
            "Saving to: ‘dataset.rar’\n",
            "\n",
            "dataset.rar         100%[===================>]  23.59M   120MB/s    in 0.2s    \n",
            "\n",
            "2021-09-05 02:28:39 (120 MB/s) - ‘dataset.rar’ saved [24741696/24741696]\n",
            "\n"
          ]
        }
      ]
    },
    {
      "cell_type": "code",
      "metadata": {
        "colab": {
          "base_uri": "https://localhost:8080/"
        },
        "id": "nTHB3w_c8EAZ",
        "outputId": "0a2233df-d9b4-499f-dd4f-753c1cc79a55"
      },
      "source": [
        "! unrar x '/content/dataset.rar'"
      ],
      "execution_count": null,
      "outputs": [
        {
          "output_type": "stream",
          "name": "stdout",
          "text": [
            "\n",
            "UNRAR 5.50 freeware      Copyright (c) 1993-2017 Alexander Roshal\n",
            "\n",
            "\n",
            "Extracting from /content/dataset.rar\n",
            "\n",
            "Extracting  Kaggle_Training_Dataset_v2.csv                               \b\b\b\b  0%\b\b\b\b  1%\b\b\b\b  2%\b\b\b\b  3%\b\b\b\b  4%\b\b\b\b  5%\b\b\b\b  6%\b\b\b\b  7%\b\b\b\b  8%\b\b\b\b  9%\b\b\b\b 10%\b\b\b\b 11%\b\b\b\b 12%\b\b\b\b 13%\b\b\b\b 14%\b\b\b\b 15%\b\b\b\b 16%\b\b\b\b 17%\b\b\b\b 18%\b\b\b\b 19%\b\b\b\b 20%\b\b\b\b 21%\b\b\b\b 22%\b\b\b\b 23%\b\b\b\b 24%\b\b\b\b 25%\b\b\b\b 26%\b\b\b\b 27%\b\b\b\b 28%\b\b\b\b 29%\b\b\b\b 30%\b\b\b\b 31%\b\b\b\b 32%\b\b\b\b 33%\b\b\b\b 34%\b\b\b\b 35%\b\b\b\b 36%\b\b\b\b 37%\b\b\b\b 38%\b\b\b\b 39%\b\b\b\b 40%\b\b\b\b 41%\b\b\b\b 42%\b\b\b\b 43%\b\b\b\b 44%\b\b\b\b 45%\b\b\b\b 46%\b\b\b\b 47%\b\b\b\b 48%\b\b\b\b 49%\b\b\b\b 50%\b\b\b\b 51%\b\b\b\b 52%\b\b\b\b 53%\b\b\b\b 54%\b\b\b\b 55%\b\b\b\b 56%\b\b\b\b 57%\b\b\b\b 58%\b\b\b\b 59%\b\b\b\b 60%\b\b\b\b 61%\b\b\b\b 62%\b\b\b\b 63%\b\b\b\b 64%\b\b\b\b 65%\b\b\b\b 66%\b\b\b\b 67%\b\b\b\b 68%\b\b\b\b 69%\b\b\b\b 70%\b\b\b\b 71%\b\b\b\b 72%\b\b\b\b 73%\b\b\b\b 74%\b\b\b\b 75%\b\b\b\b 76%\b\b\b\b 77%\b\b\b\b 78%\b\b\b\b 79%\b\b\b\b 80%\b\b\b\b 81%\b\b\b\b 82%\b\b\b\b 83%\b\b\b\b 84%\b\b\b\b 85%\b\b\b\b 86%\b\b\b\b 87%\b\b\b\b\b  OK \n",
            "Extracting  Kaggle_Test_Dataset_v2.csv                                   \b\b\b\b 87%\b\b\b\b 88%\b\b\b\b 89%\b\b\b\b 90%\b\b\b\b 91%\b\b\b\b 92%\b\b\b\b 93%\b\b\b\b 94%\b\b\b\b 95%\b\b\b\b 96%\b\b\b\b 97%\b\b\b\b 98%\b\b\b\b 99%\b\b\b\b\b  OK \n",
            "All OK\n"
          ]
        }
      ]
    },
    {
      "cell_type": "code",
      "metadata": {
        "colab": {
          "base_uri": "https://localhost:8080/"
        },
        "id": "r_qkv9ZD8HLk",
        "outputId": "5354540d-ca2d-4df3-fced-0b5802117971"
      },
      "source": [
        "#data\n",
        "data=pd.read_csv('/content/Kaggle_Training_Dataset_v2.csv')\n",
        "test=pd.read_csv('/content/Kaggle_Test_Dataset_v2.csv')\n",
        "print('shape of training data:',data.shape)\n",
        "print('shape of testing data:',test.shape)"
      ],
      "execution_count": null,
      "outputs": [
        {
          "output_type": "stream",
          "name": "stderr",
          "text": [
            "/usr/local/lib/python3.7/dist-packages/IPython/core/interactiveshell.py:2718: DtypeWarning: Columns (0) have mixed types.Specify dtype option on import or set low_memory=False.\n",
            "  interactivity=interactivity, compiler=compiler, result=result)\n"
          ]
        },
        {
          "output_type": "stream",
          "name": "stdout",
          "text": [
            "shape of training data: (1687861, 23)\n",
            "shape of testing data: (242076, 23)\n"
          ]
        }
      ]
    },
    {
      "cell_type": "code",
      "metadata": {
        "id": "3B2XVg_S8Nk5"
      },
      "source": [
        "#dropping last row #nan values\n",
        "data=data.drop(data.index[-1])\n",
        "test=test.drop(test.index[-1])"
      ],
      "execution_count": null,
      "outputs": []
    },
    {
      "cell_type": "code",
      "metadata": {
        "colab": {
          "base_uri": "https://localhost:8080/",
          "height": 163
        },
        "id": "VYjXAGZcyk9c",
        "outputId": "d5c9e32a-9fb8-4c05-d94b-4bbcbfc0343b"
      },
      "source": [
        "sample=data[data['went_on_backorder']==1].head(3)\n",
        "sample"
      ],
      "execution_count": null,
      "outputs": [
        {
          "output_type": "execute_result",
          "data": {
            "text/html": [
              "<div>\n",
              "<style scoped>\n",
              "    .dataframe tbody tr th:only-of-type {\n",
              "        vertical-align: middle;\n",
              "    }\n",
              "\n",
              "    .dataframe tbody tr th {\n",
              "        vertical-align: top;\n",
              "    }\n",
              "\n",
              "    .dataframe thead th {\n",
              "        text-align: right;\n",
              "    }\n",
              "</style>\n",
              "<table border=\"1\" class=\"dataframe\">\n",
              "  <thead>\n",
              "    <tr style=\"text-align: right;\">\n",
              "      <th></th>\n",
              "      <th>sku</th>\n",
              "      <th>national_inv</th>\n",
              "      <th>lead_time</th>\n",
              "      <th>in_transit_qty</th>\n",
              "      <th>forecast_3_month</th>\n",
              "      <th>forecast_6_month</th>\n",
              "      <th>forecast_9_month</th>\n",
              "      <th>sales_1_month</th>\n",
              "      <th>sales_3_month</th>\n",
              "      <th>sales_6_month</th>\n",
              "      <th>sales_9_month</th>\n",
              "      <th>min_bank</th>\n",
              "      <th>potential_issue</th>\n",
              "      <th>pieces_past_due</th>\n",
              "      <th>perf_6_month_avg</th>\n",
              "      <th>perf_12_month_avg</th>\n",
              "      <th>local_bo_qty</th>\n",
              "      <th>deck_risk</th>\n",
              "      <th>oe_constraint</th>\n",
              "      <th>ppap_risk</th>\n",
              "      <th>stop_auto_buy</th>\n",
              "      <th>rev_stop</th>\n",
              "      <th>went_on_backorder</th>\n",
              "    </tr>\n",
              "  </thead>\n",
              "  <tbody>\n",
              "    <tr>\n",
              "      <th>143</th>\n",
              "      <td>1111623</td>\n",
              "      <td>0.0</td>\n",
              "      <td>8.0</td>\n",
              "      <td>0.0</td>\n",
              "      <td>2.0</td>\n",
              "      <td>3.0</td>\n",
              "      <td>5.0</td>\n",
              "      <td>0.0</td>\n",
              "      <td>3.0</td>\n",
              "      <td>3.0</td>\n",
              "      <td>3.0</td>\n",
              "      <td>2.0</td>\n",
              "      <td>0</td>\n",
              "      <td>0.0</td>\n",
              "      <td>0.68</td>\n",
              "      <td>0.58</td>\n",
              "      <td>0.0</td>\n",
              "      <td>0</td>\n",
              "      <td>0</td>\n",
              "      <td>1</td>\n",
              "      <td>1</td>\n",
              "      <td>0</td>\n",
              "      <td>1</td>\n",
              "    </tr>\n",
              "    <tr>\n",
              "      <th>173</th>\n",
              "      <td>1111652</td>\n",
              "      <td>24.0</td>\n",
              "      <td>8.0</td>\n",
              "      <td>0.0</td>\n",
              "      <td>3456.0</td>\n",
              "      <td>3456.0</td>\n",
              "      <td>3456.0</td>\n",
              "      <td>10.0</td>\n",
              "      <td>39.0</td>\n",
              "      <td>68.0</td>\n",
              "      <td>93.0</td>\n",
              "      <td>7.0</td>\n",
              "      <td>0</td>\n",
              "      <td>0.0</td>\n",
              "      <td>1.00</td>\n",
              "      <td>0.95</td>\n",
              "      <td>1.0</td>\n",
              "      <td>0</td>\n",
              "      <td>0</td>\n",
              "      <td>1</td>\n",
              "      <td>1</td>\n",
              "      <td>0</td>\n",
              "      <td>1</td>\n",
              "    </tr>\n",
              "    <tr>\n",
              "      <th>176</th>\n",
              "      <td>1111655</td>\n",
              "      <td>-55.0</td>\n",
              "      <td>8.0</td>\n",
              "      <td>2.0</td>\n",
              "      <td>428.0</td>\n",
              "      <td>526.0</td>\n",
              "      <td>606.0</td>\n",
              "      <td>25.0</td>\n",
              "      <td>100.0</td>\n",
              "      <td>205.0</td>\n",
              "      <td>387.0</td>\n",
              "      <td>52.0</td>\n",
              "      <td>0</td>\n",
              "      <td>0.0</td>\n",
              "      <td>-99.00</td>\n",
              "      <td>-99.00</td>\n",
              "      <td>56.0</td>\n",
              "      <td>0</td>\n",
              "      <td>0</td>\n",
              "      <td>0</td>\n",
              "      <td>1</td>\n",
              "      <td>0</td>\n",
              "      <td>1</td>\n",
              "    </tr>\n",
              "  </tbody>\n",
              "</table>\n",
              "</div>"
            ],
            "text/plain": [
              "         sku  national_inv  ...  rev_stop  went_on_backorder\n",
              "143  1111623           0.0  ...         0                  1\n",
              "173  1111652          24.0  ...         0                  1\n",
              "176  1111655         -55.0  ...         0                  1\n",
              "\n",
              "[3 rows x 23 columns]"
            ]
          },
          "metadata": {},
          "execution_count": 14
        }
      ]
    },
    {
      "cell_type": "code",
      "metadata": {
        "colab": {
          "base_uri": "https://localhost:8080/",
          "height": 257
        },
        "id": "mlcqdM1Kzdiy",
        "outputId": "6ae2c295-fad5-4849-e847-504b7b511547"
      },
      "source": [
        "sample=sample.append(data[data['went_on_backorder']==0].head(3))\n",
        "sample"
      ],
      "execution_count": null,
      "outputs": [
        {
          "output_type": "execute_result",
          "data": {
            "text/html": [
              "<div>\n",
              "<style scoped>\n",
              "    .dataframe tbody tr th:only-of-type {\n",
              "        vertical-align: middle;\n",
              "    }\n",
              "\n",
              "    .dataframe tbody tr th {\n",
              "        vertical-align: top;\n",
              "    }\n",
              "\n",
              "    .dataframe thead th {\n",
              "        text-align: right;\n",
              "    }\n",
              "</style>\n",
              "<table border=\"1\" class=\"dataframe\">\n",
              "  <thead>\n",
              "    <tr style=\"text-align: right;\">\n",
              "      <th></th>\n",
              "      <th>sku</th>\n",
              "      <th>national_inv</th>\n",
              "      <th>lead_time</th>\n",
              "      <th>in_transit_qty</th>\n",
              "      <th>forecast_3_month</th>\n",
              "      <th>forecast_6_month</th>\n",
              "      <th>forecast_9_month</th>\n",
              "      <th>sales_1_month</th>\n",
              "      <th>sales_3_month</th>\n",
              "      <th>sales_6_month</th>\n",
              "      <th>sales_9_month</th>\n",
              "      <th>min_bank</th>\n",
              "      <th>potential_issue</th>\n",
              "      <th>pieces_past_due</th>\n",
              "      <th>perf_6_month_avg</th>\n",
              "      <th>perf_12_month_avg</th>\n",
              "      <th>local_bo_qty</th>\n",
              "      <th>deck_risk</th>\n",
              "      <th>oe_constraint</th>\n",
              "      <th>ppap_risk</th>\n",
              "      <th>stop_auto_buy</th>\n",
              "      <th>rev_stop</th>\n",
              "      <th>went_on_backorder</th>\n",
              "    </tr>\n",
              "  </thead>\n",
              "  <tbody>\n",
              "    <tr>\n",
              "      <th>143</th>\n",
              "      <td>1111623</td>\n",
              "      <td>0.0</td>\n",
              "      <td>8.0</td>\n",
              "      <td>0.0</td>\n",
              "      <td>2.0</td>\n",
              "      <td>3.0</td>\n",
              "      <td>5.0</td>\n",
              "      <td>0.0</td>\n",
              "      <td>3.0</td>\n",
              "      <td>3.0</td>\n",
              "      <td>3.0</td>\n",
              "      <td>2.0</td>\n",
              "      <td>0</td>\n",
              "      <td>0.0</td>\n",
              "      <td>0.68</td>\n",
              "      <td>0.58</td>\n",
              "      <td>0.0</td>\n",
              "      <td>0</td>\n",
              "      <td>0</td>\n",
              "      <td>1</td>\n",
              "      <td>1</td>\n",
              "      <td>0</td>\n",
              "      <td>1</td>\n",
              "    </tr>\n",
              "    <tr>\n",
              "      <th>173</th>\n",
              "      <td>1111652</td>\n",
              "      <td>24.0</td>\n",
              "      <td>8.0</td>\n",
              "      <td>0.0</td>\n",
              "      <td>3456.0</td>\n",
              "      <td>3456.0</td>\n",
              "      <td>3456.0</td>\n",
              "      <td>10.0</td>\n",
              "      <td>39.0</td>\n",
              "      <td>68.0</td>\n",
              "      <td>93.0</td>\n",
              "      <td>7.0</td>\n",
              "      <td>0</td>\n",
              "      <td>0.0</td>\n",
              "      <td>1.00</td>\n",
              "      <td>0.95</td>\n",
              "      <td>1.0</td>\n",
              "      <td>0</td>\n",
              "      <td>0</td>\n",
              "      <td>1</td>\n",
              "      <td>1</td>\n",
              "      <td>0</td>\n",
              "      <td>1</td>\n",
              "    </tr>\n",
              "    <tr>\n",
              "      <th>176</th>\n",
              "      <td>1111655</td>\n",
              "      <td>-55.0</td>\n",
              "      <td>8.0</td>\n",
              "      <td>2.0</td>\n",
              "      <td>428.0</td>\n",
              "      <td>526.0</td>\n",
              "      <td>606.0</td>\n",
              "      <td>25.0</td>\n",
              "      <td>100.0</td>\n",
              "      <td>205.0</td>\n",
              "      <td>387.0</td>\n",
              "      <td>52.0</td>\n",
              "      <td>0</td>\n",
              "      <td>0.0</td>\n",
              "      <td>-99.00</td>\n",
              "      <td>-99.00</td>\n",
              "      <td>56.0</td>\n",
              "      <td>0</td>\n",
              "      <td>0</td>\n",
              "      <td>0</td>\n",
              "      <td>1</td>\n",
              "      <td>0</td>\n",
              "      <td>1</td>\n",
              "    </tr>\n",
              "    <tr>\n",
              "      <th>0</th>\n",
              "      <td>1026827</td>\n",
              "      <td>0.0</td>\n",
              "      <td>NaN</td>\n",
              "      <td>0.0</td>\n",
              "      <td>0.0</td>\n",
              "      <td>0.0</td>\n",
              "      <td>0.0</td>\n",
              "      <td>0.0</td>\n",
              "      <td>0.0</td>\n",
              "      <td>0.0</td>\n",
              "      <td>0.0</td>\n",
              "      <td>0.0</td>\n",
              "      <td>0</td>\n",
              "      <td>0.0</td>\n",
              "      <td>-99.00</td>\n",
              "      <td>-99.00</td>\n",
              "      <td>0.0</td>\n",
              "      <td>0</td>\n",
              "      <td>0</td>\n",
              "      <td>0</td>\n",
              "      <td>1</td>\n",
              "      <td>0</td>\n",
              "      <td>0</td>\n",
              "    </tr>\n",
              "    <tr>\n",
              "      <th>1</th>\n",
              "      <td>1043384</td>\n",
              "      <td>2.0</td>\n",
              "      <td>9.0</td>\n",
              "      <td>0.0</td>\n",
              "      <td>0.0</td>\n",
              "      <td>0.0</td>\n",
              "      <td>0.0</td>\n",
              "      <td>0.0</td>\n",
              "      <td>0.0</td>\n",
              "      <td>0.0</td>\n",
              "      <td>0.0</td>\n",
              "      <td>0.0</td>\n",
              "      <td>0</td>\n",
              "      <td>0.0</td>\n",
              "      <td>0.99</td>\n",
              "      <td>0.99</td>\n",
              "      <td>0.0</td>\n",
              "      <td>0</td>\n",
              "      <td>0</td>\n",
              "      <td>0</td>\n",
              "      <td>1</td>\n",
              "      <td>0</td>\n",
              "      <td>0</td>\n",
              "    </tr>\n",
              "    <tr>\n",
              "      <th>2</th>\n",
              "      <td>1043696</td>\n",
              "      <td>2.0</td>\n",
              "      <td>NaN</td>\n",
              "      <td>0.0</td>\n",
              "      <td>0.0</td>\n",
              "      <td>0.0</td>\n",
              "      <td>0.0</td>\n",
              "      <td>0.0</td>\n",
              "      <td>0.0</td>\n",
              "      <td>0.0</td>\n",
              "      <td>0.0</td>\n",
              "      <td>0.0</td>\n",
              "      <td>0</td>\n",
              "      <td>0.0</td>\n",
              "      <td>-99.00</td>\n",
              "      <td>-99.00</td>\n",
              "      <td>0.0</td>\n",
              "      <td>1</td>\n",
              "      <td>0</td>\n",
              "      <td>0</td>\n",
              "      <td>1</td>\n",
              "      <td>0</td>\n",
              "      <td>0</td>\n",
              "    </tr>\n",
              "  </tbody>\n",
              "</table>\n",
              "</div>"
            ],
            "text/plain": [
              "         sku  national_inv  ...  rev_stop  went_on_backorder\n",
              "143  1111623           0.0  ...         0                  1\n",
              "173  1111652          24.0  ...         0                  1\n",
              "176  1111655         -55.0  ...         0                  1\n",
              "0    1026827           0.0  ...         0                  0\n",
              "1    1043384           2.0  ...         0                  0\n",
              "2    1043696           2.0  ...         0                  0\n",
              "\n",
              "[6 rows x 23 columns]"
            ]
          },
          "metadata": {},
          "execution_count": 15
        }
      ]
    },
    {
      "cell_type": "code",
      "metadata": {
        "colab": {
          "base_uri": "https://localhost:8080/",
          "height": 257
        },
        "id": "ZughQZYk2Va9",
        "outputId": "15ce2190-42fe-4233-b022-876c772d3e26"
      },
      "source": [
        "sample.head()"
      ],
      "execution_count": null,
      "outputs": [
        {
          "output_type": "execute_result",
          "data": {
            "text/html": [
              "<div>\n",
              "<style scoped>\n",
              "    .dataframe tbody tr th:only-of-type {\n",
              "        vertical-align: middle;\n",
              "    }\n",
              "\n",
              "    .dataframe tbody tr th {\n",
              "        vertical-align: top;\n",
              "    }\n",
              "\n",
              "    .dataframe thead th {\n",
              "        text-align: right;\n",
              "    }\n",
              "</style>\n",
              "<table border=\"1\" class=\"dataframe\">\n",
              "  <thead>\n",
              "    <tr style=\"text-align: right;\">\n",
              "      <th></th>\n",
              "      <th>national_inv</th>\n",
              "      <th>lead_time</th>\n",
              "      <th>in_transit_qty</th>\n",
              "      <th>forecast_3_month</th>\n",
              "      <th>sales_3_month</th>\n",
              "      <th>min_bank</th>\n",
              "      <th>pieces_past_due</th>\n",
              "      <th>perf_6_month_avg</th>\n",
              "      <th>perf_12_month_avg</th>\n",
              "      <th>deck_risk</th>\n",
              "      <th>stop_auto_buy</th>\n",
              "      <th>went_on_backorder</th>\n",
              "    </tr>\n",
              "    <tr>\n",
              "      <th>sku</th>\n",
              "      <th></th>\n",
              "      <th></th>\n",
              "      <th></th>\n",
              "      <th></th>\n",
              "      <th></th>\n",
              "      <th></th>\n",
              "      <th></th>\n",
              "      <th></th>\n",
              "      <th></th>\n",
              "      <th></th>\n",
              "      <th></th>\n",
              "      <th></th>\n",
              "    </tr>\n",
              "  </thead>\n",
              "  <tbody>\n",
              "    <tr>\n",
              "      <th>1111623</th>\n",
              "      <td>0.0</td>\n",
              "      <td>8.0</td>\n",
              "      <td>0.0</td>\n",
              "      <td>2.0</td>\n",
              "      <td>3.0</td>\n",
              "      <td>2.0</td>\n",
              "      <td>0.0</td>\n",
              "      <td>0.68</td>\n",
              "      <td>0.58</td>\n",
              "      <td>0</td>\n",
              "      <td>1</td>\n",
              "      <td>1</td>\n",
              "    </tr>\n",
              "    <tr>\n",
              "      <th>1111652</th>\n",
              "      <td>24.0</td>\n",
              "      <td>8.0</td>\n",
              "      <td>0.0</td>\n",
              "      <td>3456.0</td>\n",
              "      <td>39.0</td>\n",
              "      <td>7.0</td>\n",
              "      <td>0.0</td>\n",
              "      <td>1.00</td>\n",
              "      <td>0.95</td>\n",
              "      <td>0</td>\n",
              "      <td>1</td>\n",
              "      <td>1</td>\n",
              "    </tr>\n",
              "    <tr>\n",
              "      <th>1111655</th>\n",
              "      <td>-55.0</td>\n",
              "      <td>8.0</td>\n",
              "      <td>2.0</td>\n",
              "      <td>428.0</td>\n",
              "      <td>100.0</td>\n",
              "      <td>52.0</td>\n",
              "      <td>0.0</td>\n",
              "      <td>-99.00</td>\n",
              "      <td>-99.00</td>\n",
              "      <td>0</td>\n",
              "      <td>1</td>\n",
              "      <td>1</td>\n",
              "    </tr>\n",
              "    <tr>\n",
              "      <th>1026827</th>\n",
              "      <td>0.0</td>\n",
              "      <td>NaN</td>\n",
              "      <td>0.0</td>\n",
              "      <td>0.0</td>\n",
              "      <td>0.0</td>\n",
              "      <td>0.0</td>\n",
              "      <td>0.0</td>\n",
              "      <td>-99.00</td>\n",
              "      <td>-99.00</td>\n",
              "      <td>0</td>\n",
              "      <td>1</td>\n",
              "      <td>0</td>\n",
              "    </tr>\n",
              "    <tr>\n",
              "      <th>1043384</th>\n",
              "      <td>2.0</td>\n",
              "      <td>9.0</td>\n",
              "      <td>0.0</td>\n",
              "      <td>0.0</td>\n",
              "      <td>0.0</td>\n",
              "      <td>0.0</td>\n",
              "      <td>0.0</td>\n",
              "      <td>0.99</td>\n",
              "      <td>0.99</td>\n",
              "      <td>0</td>\n",
              "      <td>1</td>\n",
              "      <td>0</td>\n",
              "    </tr>\n",
              "  </tbody>\n",
              "</table>\n",
              "</div>"
            ],
            "text/plain": [
              "         national_inv  lead_time  ...  stop_auto_buy  went_on_backorder\n",
              "sku                               ...                                  \n",
              "1111623           0.0        8.0  ...              1                  1\n",
              "1111652          24.0        8.0  ...              1                  1\n",
              "1111655         -55.0        8.0  ...              1                  1\n",
              "1026827           0.0        NaN  ...              1                  0\n",
              "1043384           2.0        9.0  ...              1                  0\n",
              "\n",
              "[5 rows x 12 columns]"
            ]
          },
          "metadata": {},
          "execution_count": 24
        }
      ]
    },
    {
      "cell_type": "code",
      "metadata": {
        "colab": {
          "base_uri": "https://localhost:8080/"
        },
        "id": "fOEwRmyeoGNR",
        "outputId": "d9b35c12-7afc-41c9-b34e-a4fbe048aa6d"
      },
      "source": [
        "data=data.append(test,ignore_index=True).sample(frac=1)\n",
        "print(data.shape)"
      ],
      "execution_count": null,
      "outputs": [
        {
          "name": "stdout",
          "output_type": "stream",
          "text": [
            "(1929935, 23)\n"
          ]
        }
      ]
    },
    {
      "cell_type": "code",
      "metadata": {
        "colab": {
          "base_uri": "https://localhost:8080/"
        },
        "id": "t5ILE8JRoll2",
        "outputId": "26582384-3813-4170-b90d-60b0d8d961ea"
      },
      "source": [
        "from sklearn.model_selection import train_test_split\n",
        "data,test=train_test_split(data,test_size=0.2,stratify=data['went_on_backorder'],random_state=33)\n",
        "print(data.shape,test.shape)"
      ],
      "execution_count": null,
      "outputs": [
        {
          "name": "stdout",
          "output_type": "stream",
          "text": [
            "(1543948, 23) (385987, 23)\n"
          ]
        }
      ]
    },
    {
      "cell_type": "code",
      "metadata": {
        "colab": {
          "base_uri": "https://localhost:8080/"
        },
        "id": "ma2WZrwjnFzw",
        "outputId": "9732aaeb-ccf4-4118-ed6a-709f496691c4"
      },
      "source": [
        "from google.colab import drive\n",
        "drive.mount('/content/drive')"
      ],
      "execution_count": null,
      "outputs": [
        {
          "output_type": "stream",
          "name": "stdout",
          "text": [
            "Mounted at /content/drive\n"
          ]
        }
      ]
    },
    {
      "cell_type": "code",
      "metadata": {
        "id": "9ajTyi4Nuj9K"
      },
      "source": [
        "data.to_csv('/content/drive/MyDrive/CS1_bo/data.csv')\n",
        "test.to_csv('/content/drive/MyDrive/CS1_bo/test.csv')"
      ],
      "execution_count": null,
      "outputs": []
    },
    {
      "cell_type": "code",
      "metadata": {
        "id": "6CB4dvL_-uru"
      },
      "source": [
        "#replacing 'Yes'/'No' with 0/1\n",
        "#train\n",
        "for feat in data.columns:\n",
        "  if data[feat].dtype=='O':\n",
        "    data[feat]=data[feat].replace({'Yes': 1,'No': 0})\n",
        "#test\n",
        "for feat in test.columns:\n",
        "  if test[feat].dtype=='O':\n",
        "    test[feat]=test[feat].replace({'Yes': 1,'No': 0})"
      ],
      "execution_count": null,
      "outputs": []
    },
    {
      "cell_type": "code",
      "metadata": {
        "id": "84iN_9N4-3Nr"
      },
      "source": [
        "\n",
        "# imputing lead-time\n",
        "med=np.median(data[data['lead_time'].notnull()]['lead_time'])\n",
        "data['lead_time'].fillna(med,inplace=True)\n",
        "test['lead_time'].fillna(med,inplace=True)\n",
        "\n",
        "#imputing 'perf_6_month_avg'\n",
        "med=np.median(data[data['perf_6_month_avg']!=-99]['perf_6_month_avg'])\n",
        "data['perf_6_month_avg'] = data['perf_6_month_avg'].replace([-99],med)\n",
        "test['perf_6_month_avg'] = test['perf_6_month_avg'].replace([-99],med)\n",
        "\n",
        "#imputing 'perf_12_month_avg'\n",
        "med=np.median(data[data['perf_12_month_avg']!=-99]['perf_12_month_avg'])\n",
        "data['perf_12_month_avg'] = data['perf_12_month_avg'].replace([-99],med)\n",
        "test['perf_12_month_avg'] = test['perf_12_month_avg'].replace([-99],med)"
      ],
      "execution_count": null,
      "outputs": []
    },
    {
      "cell_type": "code",
      "metadata": {
        "colab": {
          "base_uri": "https://localhost:8080/"
        },
        "id": "A7-U_GWGk040",
        "outputId": "9cd0284b-174f-49c1-8d21-8f0e4d6d257b"
      },
      "source": [
        "print('null values in train:',data.isnull().sum().sum())\n",
        "print('null values in test:',test.isnull().sum().sum())"
      ],
      "execution_count": null,
      "outputs": [
        {
          "name": "stdout",
          "output_type": "stream",
          "text": [
            "null values in train: 0\n",
            "null values in test: 0\n"
          ]
        }
      ]
    },
    {
      "cell_type": "markdown",
      "metadata": {
        "id": "IlNJz2IbDDIk"
      },
      "source": [
        "# Feature Engineering "
      ]
    },
    {
      "cell_type": "code",
      "metadata": {
        "id": "9PShHsF_-4uV"
      },
      "source": [
        "# reorder point is that level of inventory where the business need to place an order before consuming safetystock/min_bank\n",
        "data['reorder_point']=((data['sales_3_month']/30)*data['lead_time'])+data['min_bank']\n",
        "test['reorder_point']=((test['sales_3_month']/30)*test['lead_time'])+test['min_bank']\n",
        "\n",
        "#how much inventory is left to reach reorder point\n",
        "data['usable_stock']=data['national_inv']-data['reorder_point']\n",
        "test['usable_stock']=test['national_inv']-test['reorder_point']\n",
        "\n",
        "#is usable stock negative?\n",
        "data['neg_stock']=(data['usable_stock']<0).astype('int32')\n",
        "test['neg_stock']=(test['usable_stock']<0).astype('int32')\n",
        "\n",
        "#is usable stock zero?\n",
        "data['zero_stock']=(data['usable_stock']==0).astype('int32')\n",
        "test['zero_stock']=(test['usable_stock']==0).astype('int32')\n",
        "\n",
        "#is the stock sufficient?\n",
        "data['min_stock']=(data['usable_stock']<data['min_bank']).astype('int32')\n",
        "test['min_stock']=(test['usable_stock']<test['min_bank']).astype('int32')"
      ],
      "execution_count": null,
      "outputs": []
    },
    {
      "cell_type": "code",
      "metadata": {
        "id": "FDKOQnCPS9WU"
      },
      "source": [
        "#log transform\n",
        "data['in_transit_qty']=data['in_transit_qty'].apply(lambda x: np.log(abs(x)+1)*np.sign(x))\n",
        "test['in_transit_qty']=test['in_transit_qty'].apply(lambda x: np.log(abs(x)+1)*np.sign(x))\n",
        "data['forecast_3_month']=data['forecast_3_month'].apply(lambda x: np.log(abs(x)+1)*np.sign(x))\n",
        "test['forecast_3_month']=test['forecast_3_month'].apply(lambda x: np.log(abs(x)+1)*np.sign(x))\n",
        "data['forecast_3_month']=data['forecast_3_month'].apply(lambda x: x**2)\n",
        "test['forecast_3_month']=test['forecast_3_month'].apply(lambda x: x**2)\n",
        "data['sales_3_month']=data['sales_3_month'].apply(lambda x: np.log(abs(x)+1)*np.sign(x))\n",
        "test['sales_3_month']=test['sales_3_month'].apply(lambda x: np.log(abs(x)+1)*np.sign(x))\n",
        "data['sales_3_month']=data['sales_3_month'].apply(lambda x: x**2)\n",
        "test['sales_3_month']=test['sales_3_month'].apply(lambda x: x**2)\n",
        "data['min_bank']=data['min_bank'].apply(lambda x: np.log(abs(x)+1)*np.sign(x))\n",
        "test['min_bank']=test['min_bank'].apply(lambda x: np.log(abs(x)+1)*np.sign(x))\n",
        "data['min_bank']=data['min_bank'].apply(lambda x:x**2)\n",
        "test['min_bank']=test['min_bank'].apply(lambda x:x**2)\n",
        "data['pieces_past_due']=data['pieces_past_due'].apply(lambda x: np.log(abs(x)+1)*np.sign(x))\n",
        "test['pieces_past_due']=test['pieces_past_due'].apply(lambda x: np.log(abs(x)+1)*np.sign(x))\n",
        "data['pieces_past_due']=data['pieces_past_due'].apply(lambda x: x**4)\n",
        "test['pieces_past_due']=test['pieces_past_due'].apply(lambda x: x**4)\n",
        "data['perf_6_month_avg']=data['perf_6_month_avg'].apply(lambda x: x**2)\n",
        "test['perf_6_month_avg']=test['perf_6_month_avg'].apply(lambda x: x**2)\n",
        "data['local_bo_qty']=data['local_bo_qty'].apply(lambda x: np.log(abs(x)+1)*np.sign(x))\n",
        "test['local_bo_qty']=test['local_bo_qty'].apply(lambda x: np.log(abs(x)+1)*np.sign(x))\n",
        "data['local_bo_qty']=data['local_bo_qty'].apply(lambda x: x**2)\n",
        "test['local_bo_qty']=test['local_bo_qty'].apply(lambda x: x**2)\n",
        "data['reorder_point']=data['reorder_point'].apply(lambda x: np.log(abs(x)+1)*np.sign(x))\n",
        "test['reorder_point']=test['reorder_point'].apply(lambda x: np.log(abs(x)+1)*np.sign(x))\n",
        "data['usable_stock']=data['usable_stock'].apply(lambda x: np.log(abs(x)+1)*np.sign(x))\n",
        "test['usable_stock']=test['usable_stock'].apply(lambda x: np.log(abs(x)+1)*np.sign(x))\n",
        "data['usable_stock']=data['usable_stock'].apply(lambda x: (x**2)*np.sign(x))\n",
        "test['usable_stock']=test['usable_stock'].apply(lambda x: (x**2)*np.sign(x))"
      ],
      "execution_count": null,
      "outputs": []
    },
    {
      "cell_type": "code",
      "metadata": {
        "colab": {
          "base_uri": "https://localhost:8080/"
        },
        "id": "h0j8PKM6_mNs",
        "outputId": "c9b7fa68-9794-4dd2-e7c2-1a79f392f851"
      },
      "source": [
        "D1,D2= train_test_split(data,test_size=0.5,stratify=data['went_on_backorder'])\n",
        "print(D1.shape,D2.shape)"
      ],
      "execution_count": null,
      "outputs": [
        {
          "name": "stdout",
          "output_type": "stream",
          "text": [
            "(771974, 28) (771974, 28)\n"
          ]
        }
      ]
    },
    {
      "cell_type": "code",
      "metadata": {
        "id": "bRwDenfunuTf"
      },
      "source": [
        "#preprocessed\n",
        "D1.to_csv('/content/drive/MyDrive/CS1_bo/D1.csv')\n",
        "D2.to_csv('/content/drive/MyDrive/CS1_bo/D2.csv')\n",
        "test.to_csv('/content/drive/MyDrive/CS1_bo/Dtest.csv')"
      ],
      "execution_count": null,
      "outputs": []
    },
    {
      "cell_type": "code",
      "metadata": {
        "id": "eYOlt1iDioMW"
      },
      "source": [
        "D1=pd.read_csv('/content/drive/MyDrive/CS1_bo/D1.csv')\n",
        "D2=pd.read_csv('/content/drive/MyDrive/CS1_bo/D2.csv')\n",
        "test=pd.read_csv('/content/drive/MyDrive/CS1_bo/Dtest.csv')"
      ],
      "execution_count": null,
      "outputs": []
    },
    {
      "cell_type": "code",
      "metadata": {
        "colab": {
          "base_uri": "https://localhost:8080/"
        },
        "id": "u1JptB5fUZ2z",
        "outputId": "9948dcd3-e017-4975-a1a2-b882681eddd3"
      },
      "source": [
        "X1=D1.drop(['forecast_6_month','forecast_9_month','sales_1_month','sales_6_month','sales_9_month'],axis=1)\n",
        "print(X1.shape)\n",
        " \n",
        "y2=D2['went_on_backorder']\n",
        "X2=D2.drop(['sku','went_on_backorder','forecast_6_month','forecast_9_month','sales_1_month','sales_6_month','sales_9_month'],axis=1)\n",
        "print(X2.shape,y2.shape)\n",
        " \n",
        "y_test=test['went_on_backorder']\n",
        "X_test=test.drop(['sku','went_on_backorder','forecast_6_month','forecast_9_month','sales_1_month','sales_6_month','sales_9_month'],axis=1)\n",
        "print(X_test.shape,y_test.shape)"
      ],
      "execution_count": null,
      "outputs": [
        {
          "output_type": "stream",
          "name": "stdout",
          "text": [
            "(771974, 24)\n",
            "(771974, 22) (771974,)\n",
            "(385987, 22) (385987,)\n"
          ]
        }
      ]
    },
    {
      "cell_type": "code",
      "metadata": {
        "colab": {
          "base_uri": "https://localhost:8080/"
        },
        "id": "m3kCp_xkYHa_",
        "outputId": "cc3573ac-41c4-4f13-96aa-398330b350ea"
      },
      "source": [
        "X1.columns"
      ],
      "execution_count": null,
      "outputs": [
        {
          "output_type": "execute_result",
          "data": {
            "text/plain": [
              "Index(['Unnamed: 0', 'sku', 'national_inv', 'lead_time', 'in_transit_qty',\n",
              "       'forecast_3_month', 'sales_3_month', 'min_bank', 'pieces_past_due',\n",
              "       'perf_6_month_avg', 'perf_12_month_avg', 'deck_risk', 'stop_auto_buy',\n",
              "       'went_on_backorder', 'reorder_point', 'usable_stock', 'neg_stock',\n",
              "       'zero_stock', 'min_stock'],\n",
              "      dtype='object')"
            ]
          },
          "metadata": {},
          "execution_count": 10
        }
      ]
    },
    {
      "cell_type": "code",
      "metadata": {
        "id": "3R0Ol98i_OoT"
      },
      "source": [
        "from sklearn.preprocessing import StandardScaler\n",
        "scaler=StandardScaler()\n",
        "cts=['national_inv', 'lead_time', 'in_transit_qty',\n",
        "      'forecast_3_month', 'sales_3_month', \n",
        "      'min_bank', 'pieces_past_due']\n",
        "X1[cts]=scaler.fit_transform(X1[cts])\n",
        "X2[cts]=scaler.transform(X2[cts])\n",
        "X_test[cts]=scaler.transform(X_test[cts])"
      ],
      "execution_count": null,
      "outputs": []
    },
    {
      "cell_type": "code",
      "metadata": {
        "colab": {
          "base_uri": "https://localhost:8080/"
        },
        "id": "6pzBbQ-xWF1z",
        "outputId": "e7512f9d-d266-4d01-c65d-49fb7c34d49b"
      },
      "source": [
        "joblib.dump(scaler,'/content/drive/MyDrive/CS1_bo_files/scaler.pkl')"
      ],
      "execution_count": null,
      "outputs": [
        {
          "output_type": "execute_result",
          "data": {
            "text/plain": [
              "['/content/drive/MyDrive/CS1_bo_files/scaler.pkl']"
            ]
          },
          "metadata": {},
          "execution_count": 20
        }
      ]
    },
    {
      "cell_type": "markdown",
      "metadata": {
        "id": "Un-NPsdUsxSX"
      },
      "source": [
        "\n",
        "\n",
        "---\n",
        "\n",
        "\n",
        "\n",
        "---\n",
        "\n"
      ]
    },
    {
      "cell_type": "markdown",
      "metadata": {
        "id": "dgLU1J2lxYFk"
      },
      "source": [
        " ## Hyperparameter tuning of base estimators"
      ]
    },
    {
      "cell_type": "code",
      "metadata": {
        "colab": {
          "base_uri": "https://localhost:8080/"
        },
        "id": "2FajdkZtW6XD",
        "outputId": "5706536e-c1f3-4c55-f4e7-ead0918621d7"
      },
      "source": [
        "!pip3 install xgboost"
      ],
      "execution_count": null,
      "outputs": [
        {
          "output_type": "stream",
          "name": "stdout",
          "text": [
            "Requirement already satisfied: xgboost in /usr/local/lib/python3.7/dist-packages (0.90)\n",
            "Requirement already satisfied: numpy in /usr/local/lib/python3.7/dist-packages (from xgboost) (1.19.5)\n",
            "Requirement already satisfied: scipy in /usr/local/lib/python3.7/dist-packages (from xgboost) (1.4.1)\n"
          ]
        }
      ]
    },
    {
      "cell_type": "code",
      "metadata": {
        "colab": {
          "base_uri": "https://localhost:8080/"
        },
        "id": "75UQl88-s0T9",
        "outputId": "7e6b7a3e-eb05-47eb-eba8-3309497812d7"
      },
      "source": [
        "from sklearn.model_selection import GridSearchCV, RandomizedSearchCV\n",
        "from sklearn.calibration import CalibratedClassifierCV\n",
        "from time import time\n",
        "from sklearn.linear_model import SGDClassifier\n",
        "import scipy.stats as stats\n",
        "from sklearn.utils.fixes import loguniform\n",
        "from sklearn.model_selection import StratifiedKFold\n",
        "from sklearn.preprocessing import StandardScaler\n",
        "from sklearn.svm import SVC\n",
        "from sklearn.naive_bayes import GaussianNB\n",
        "from xgboost import XGBClassifier\n",
        "from sklearn.svm import SVC\n",
        "! pip install catboost\n",
        "from catboost import CatBoostClassifier"
      ],
      "execution_count": null,
      "outputs": [
        {
          "output_type": "stream",
          "name": "stdout",
          "text": [
            "Requirement already satisfied: catboost in /usr/local/lib/python3.7/dist-packages (0.26.1)\n",
            "Requirement already satisfied: matplotlib in /usr/local/lib/python3.7/dist-packages (from catboost) (3.2.2)\n",
            "Requirement already satisfied: six in /usr/local/lib/python3.7/dist-packages (from catboost) (1.15.0)\n",
            "Requirement already satisfied: plotly in /usr/local/lib/python3.7/dist-packages (from catboost) (4.4.1)\n",
            "Requirement already satisfied: pandas>=0.24.0 in /usr/local/lib/python3.7/dist-packages (from catboost) (1.1.5)\n",
            "Requirement already satisfied: scipy in /usr/local/lib/python3.7/dist-packages (from catboost) (1.4.1)\n",
            "Requirement already satisfied: graphviz in /usr/local/lib/python3.7/dist-packages (from catboost) (0.10.1)\n",
            "Requirement already satisfied: numpy>=1.16.0 in /usr/local/lib/python3.7/dist-packages (from catboost) (1.19.5)\n",
            "Requirement already satisfied: python-dateutil>=2.7.3 in /usr/local/lib/python3.7/dist-packages (from pandas>=0.24.0->catboost) (2.8.2)\n",
            "Requirement already satisfied: pytz>=2017.2 in /usr/local/lib/python3.7/dist-packages (from pandas>=0.24.0->catboost) (2018.9)\n",
            "Requirement already satisfied: cycler>=0.10 in /usr/local/lib/python3.7/dist-packages (from matplotlib->catboost) (0.10.0)\n",
            "Requirement already satisfied: kiwisolver>=1.0.1 in /usr/local/lib/python3.7/dist-packages (from matplotlib->catboost) (1.3.1)\n",
            "Requirement already satisfied: pyparsing!=2.0.4,!=2.1.2,!=2.1.6,>=2.0.1 in /usr/local/lib/python3.7/dist-packages (from matplotlib->catboost) (2.4.7)\n",
            "Requirement already satisfied: retrying>=1.3.3 in /usr/local/lib/python3.7/dist-packages (from plotly->catboost) (1.3.3)\n"
          ]
        }
      ]
    },
    {
      "cell_type": "code",
      "metadata": {
        "id": "J4qukBb-o3ws"
      },
      "source": [
        "#sample df\n",
        "def sample_df(df,frac):\n",
        "  ''' This function makes a data sample by taking all positive points and given fraction of all negatve points randomly'''\n",
        "  df_0=df[df['went_on_backorder']==0].sample(frac=frac)\n",
        "  df_1=df[df['went_on_backorder']==1]\n",
        "  df_final=pd.concat([df_0,df_1],ignore_index=True).sample(frac=1)\n",
        "  y_=df_final['went_on_backorder']\n",
        "  X_=df_final.drop(['went_on_backorder','sku'],axis=1)\n",
        "  return X_,y_"
      ],
      "execution_count": null,
      "outputs": []
    },
    {
      "cell_type": "markdown",
      "metadata": {
        "id": "PQ4WWmMoXlYK"
      },
      "source": [
        "## 1.Logistic Regression"
      ]
    },
    {
      "cell_type": "code",
      "metadata": {
        "colab": {
          "base_uri": "https://localhost:8080/"
        },
        "id": "7eiUzUibowd-",
        "outputId": "0b51142c-016a-41bd-eb5c-8de2ed3c6f45"
      },
      "source": [
        "#sample\n",
        "X,y=sample_df(X1,0.5)\n",
        "print(X.shape,y.shape)\n",
        "y.value_counts()"
      ],
      "execution_count": null,
      "outputs": [
        {
          "name": "stdout",
          "output_type": "stream",
          "text": [
            "(388783, 16) (388783,)\n"
          ]
        },
        {
          "data": {
            "text/plain": [
              "0    383190\n",
              "1      5593\n",
              "Name: went_on_backorder, dtype: int64"
            ]
          },
          "execution_count": 80,
          "metadata": {
            "tags": []
          },
          "output_type": "execute_result"
        }
      ]
    },
    {
      "cell_type": "code",
      "metadata": {
        "colab": {
          "base_uri": "https://localhost:8080/"
        },
        "id": "UijEPJ2hr3Fw",
        "outputId": "ac154de1-c0b4-453c-f35b-74faa3f4fc9b"
      },
      "source": [
        "#logistic regression\n",
        "clf=SGDClassifier(loss='log',class_weight='balanced',max_iter=5000)\n",
        "cv=StratifiedKFold(n_splits = 5)\n",
        "params={'penalty':['l2', 'l1', 'elasticnet'],\n",
        "        'alpha': [10**x for x in range(-7,0)]}\n",
        "n=15\n",
        "\n",
        "random_search = RandomizedSearchCV(clf, param_distributions=params,\n",
        "                                   n_iter=n,scoring='roc_auc')\n",
        "\n",
        "start = time()\n",
        "random_search.fit(X, y)\n",
        "print(\"RandomizedSearchCV took %.2f seconds for %d candidates\"\n",
        "      \" parameter settings.\" % ((time() - start), n))\n",
        "print(\"best params:\\n\",random_search.best_params_)"
      ],
      "execution_count": null,
      "outputs": [
        {
          "name": "stderr",
          "output_type": "stream",
          "text": [
            "/usr/local/lib/python3.7/dist-packages/sklearn/linear_model/_stochastic_gradient.py:557: ConvergenceWarning: Maximum number of iteration reached before convergence. Consider increasing max_iter to improve the fit.\n",
            "  ConvergenceWarning)\n"
          ]
        },
        {
          "name": "stdout",
          "output_type": "stream",
          "text": [
            "RandomizedSearchCV took 1045.61 seconds for 15 candidates parameter settings.\n",
            "best params:\n",
            " {'penalty': 'l2', 'alpha': 0.0001}\n"
          ]
        }
      ]
    },
    {
      "cell_type": "markdown",
      "metadata": {
        "id": "DlNjNKmp52z3"
      },
      "source": [
        "## 2.SVM"
      ]
    },
    {
      "cell_type": "code",
      "metadata": {
        "colab": {
          "base_uri": "https://localhost:8080/"
        },
        "id": "Nm7XaENI5fMg",
        "outputId": "62bc7fac-9497-46c7-efcc-62497dbb9fe4"
      },
      "source": [
        "#sample\n",
        "X,y=sample_df(X1,0.5)\n",
        "print(X.shape,y.shape)\n",
        "y.value_counts()"
      ],
      "execution_count": null,
      "outputs": [
        {
          "name": "stdout",
          "output_type": "stream",
          "text": [
            "(388783, 22) (388783,)\n"
          ]
        },
        {
          "data": {
            "text/plain": [
              "0    383190\n",
              "1      5593\n",
              "Name: went_on_backorder, dtype: int64"
            ]
          },
          "execution_count": 24,
          "metadata": {
            "tags": []
          },
          "output_type": "execute_result"
        }
      ]
    },
    {
      "cell_type": "code",
      "metadata": {
        "colab": {
          "base_uri": "https://localhost:8080/"
        },
        "id": "9mjt5c9b59CU",
        "outputId": "176ac82e-6fda-43d9-9d6c-0a1bfcfe6e1c"
      },
      "source": [
        "#hyperparameter tuning\n",
        "clf=SGDClassifier(loss='hinge',class_weight='balanced',max_iter=5000)\n",
        "cv=StratifiedKFold(n_splits = 5)\n",
        "params={'penalty':['l2', 'l1', 'elasticnet'],\n",
        "        'alpha': [10**x for x in range(-7,0)]}\n",
        "n=15\n",
        "\n",
        "random_search = RandomizedSearchCV(clf, param_distributions=params,\n",
        "                                   n_iter=n,scoring='roc_auc')\n",
        "\n",
        "start = time()\n",
        "random_search.fit(X, y)\n",
        "print(\"RandomizedSearchCV took %.2f seconds for %d candidates\"\n",
        "      \" parameter settings.\" % ((time() - start), n))\n",
        "print(\"best params:\\n\",random_search.best_params_)"
      ],
      "execution_count": null,
      "outputs": [
        {
          "name": "stdout",
          "output_type": "stream",
          "text": [
            "RandomizedSearchCV took 516.33 seconds for 15 candidates parameter settings.\n",
            "best params:\n",
            " {'penalty': 'l2', 'alpha': 0.001}\n"
          ]
        }
      ]
    },
    {
      "cell_type": "markdown",
      "metadata": {
        "id": "Cnx3rXQ8--HT"
      },
      "source": [
        "## 3.Decision Tree Classifier"
      ]
    },
    {
      "cell_type": "code",
      "metadata": {
        "colab": {
          "base_uri": "https://localhost:8080/"
        },
        "id": "GOPgJ1iQAgVx",
        "outputId": "6f5554fd-126d-4a4a-b0fa-3645e3a862ee"
      },
      "source": [
        "#sample\n",
        "X,y=sample_df(X1,0.5)\n",
        "print(X.shape,y.shape)\n",
        "y.value_counts()"
      ],
      "execution_count": null,
      "outputs": [
        {
          "name": "stdout",
          "output_type": "stream",
          "text": [
            "(388783, 22) (388783,)\n"
          ]
        },
        {
          "data": {
            "text/plain": [
              "0    383190\n",
              "1      5593\n",
              "Name: went_on_backorder, dtype: int64"
            ]
          },
          "execution_count": 28,
          "metadata": {
            "tags": []
          },
          "output_type": "execute_result"
        }
      ]
    },
    {
      "cell_type": "code",
      "metadata": {
        "colab": {
          "base_uri": "https://localhost:8080/"
        },
        "id": "CUYtMA5v-np0",
        "outputId": "f6055b6e-212e-4757-e1a8-cf27738fe2f6"
      },
      "source": [
        "#hyper parameter tuning\n",
        "clf=DecisionTreeClassifier(class_weight='balanced')\n",
        "cv=StratifiedKFold(n_splits = 5)\n",
        "params={'criterion':['gini','entropy'],\n",
        "        'max_depth':[4,5,6,7,8,None],\n",
        "        'min_samples_split':[2,5,10,20] \n",
        "         }\n",
        "n=30\n",
        " \n",
        "random_search = RandomizedSearchCV(clf, param_distributions=params,\n",
        "                                   n_iter=n,scoring='roc_auc',verbose=1)\n",
        " \n",
        "start = time()\n",
        "random_search.fit(X, y)\n",
        "print(\"RandomizedSearchCV took %.2f seconds for %d candidates\"\n",
        "      \" parameter settings.\" % ((time() - start), n))\n",
        "print(\"best params:\\n\",random_search.best_params_)"
      ],
      "execution_count": null,
      "outputs": [
        {
          "name": "stdout",
          "output_type": "stream",
          "text": [
            "Fitting 5 folds for each of 30 candidates, totalling 150 fits\n"
          ]
        },
        {
          "name": "stderr",
          "output_type": "stream",
          "text": [
            "[Parallel(n_jobs=1)]: Using backend SequentialBackend with 1 concurrent workers.\n",
            "[Parallel(n_jobs=1)]: Done 150 out of 150 | elapsed:  4.1min finished\n"
          ]
        },
        {
          "name": "stdout",
          "output_type": "stream",
          "text": [
            "RandomizedSearchCV took 246.70 seconds for 30 candidates parameter settings.\n",
            "best params:\n",
            " {'min_samples_split': 5, 'max_depth': 6, 'criterion': 'entropy'}\n"
          ]
        }
      ]
    },
    {
      "cell_type": "markdown",
      "metadata": {
        "id": "h03l97L9XR2M"
      },
      "source": [
        "## 4.Random Forest"
      ]
    },
    {
      "cell_type": "code",
      "metadata": {
        "colab": {
          "base_uri": "https://localhost:8080/"
        },
        "id": "uRPS1amnXbuz",
        "outputId": "0cd98625-0114-416b-94c0-a6b4a4137214"
      },
      "source": [
        "#sample\n",
        "X,y=sample_df(X1,0.5)\n",
        "print(X.shape,y.shape)\n",
        "y.value_counts()"
      ],
      "execution_count": null,
      "outputs": [
        {
          "name": "stdout",
          "output_type": "stream",
          "text": [
            "(388783, 22) (388783,)\n"
          ]
        },
        {
          "data": {
            "text/plain": [
              "0    383190\n",
              "1      5593\n",
              "Name: went_on_backorder, dtype: int64"
            ]
          },
          "execution_count": 32,
          "metadata": {
            "tags": []
          },
          "output_type": "execute_result"
        }
      ]
    },
    {
      "cell_type": "code",
      "metadata": {
        "colab": {
          "base_uri": "https://localhost:8080/"
        },
        "id": "2eVC-zJlCOwo",
        "outputId": "761e7727-a068-43b4-8ccf-e707c703eae0"
      },
      "source": [
        "#hyperparameter tuning\n",
        "clf=RandomForestClassifier()\n",
        "cv=StratifiedKFold(n_splits = 5)\n",
        "params={'n_estimators':[100,150,200,300],\n",
        "        'max_depth': [8,10,12],\n",
        "        'class_weight':['balanced','balanced_subsample'],\n",
        "        }\n",
        "grid_search = GridSearchCV(clf, param_grid=params,scoring='roc_auc',cv=cv)\n",
        " \n",
        "start = time()\n",
        "grid_search.fit(X, y)\n",
        "print(\"GridSearchCV took %.2f seconds\" % ((time() - start)))\n",
        "print(\"best params:\\n\",grid_search.best_params_)"
      ],
      "execution_count": null,
      "outputs": [
        {
          "name": "stdout",
          "output_type": "stream",
          "text": [
            "GridSearchCV took 5921.81 seconds\n",
            "best params:\n",
            " {'class_weight': 'balanced_subsample', 'max_depth': 12, 'n_estimators': 300}\n"
          ]
        }
      ]
    },
    {
      "cell_type": "markdown",
      "metadata": {
        "id": "Y0ekuL67ZeY1"
      },
      "source": [
        "## 5.LGBM"
      ]
    },
    {
      "cell_type": "code",
      "metadata": {
        "colab": {
          "base_uri": "https://localhost:8080/"
        },
        "id": "jpwb66KMZ0I-",
        "outputId": "e08568cd-76f1-4774-a729-bcdc5e303ec5"
      },
      "source": [
        "#sample\n",
        "X,y=sample_df(X1,0.5)\n",
        "print(X.shape,y.shape)\n",
        "y.value_counts()"
      ],
      "execution_count": null,
      "outputs": [
        {
          "name": "stdout",
          "output_type": "stream",
          "text": [
            "(388783, 22) (388783,)\n"
          ]
        },
        {
          "data": {
            "text/plain": [
              "0    383190\n",
              "1      5593\n",
              "Name: went_on_backorder, dtype: int64"
            ]
          },
          "execution_count": 36,
          "metadata": {
            "tags": []
          },
          "output_type": "execute_result"
        }
      ]
    },
    {
      "cell_type": "code",
      "metadata": {
        "colab": {
          "base_uri": "https://localhost:8080/"
        },
        "id": "OUeCghyCcj7R",
        "outputId": "a669f21a-47f1-4083-e720-cba64868eb24"
      },
      "source": [
        "#hyperparameter tuning\n",
        "clf=LGBMClassifier(class_weight='balanced',\n",
        "                   boosting_type='dart',\n",
        "                   min_child_samples=10, \n",
        "                   colsample_bytree=0.6)\n",
        "cv=StratifiedKFold(n_splits = 5)\n",
        "params={'num_leaves':[20,30,40],\n",
        "        'max_depth':[7,8,10],\n",
        "        'n_estimators':[100,200,300]\n",
        "        }\n",
        "grid_search = GridSearchCV(clf, param_grid=params,scoring='roc_auc',cv=cv)\n",
        " \n",
        "start = time()\n",
        "grid_search.fit(X, y)\n",
        "print(\"GrdSearchCV took %.2f seconds\" % ((time() - start)))\n",
        "print(\"best params:\\n\",grid_search.best_params_)"
      ],
      "execution_count": null,
      "outputs": [
        {
          "name": "stdout",
          "output_type": "stream",
          "text": [
            "GrdSearchCV took 4748.19 seconds\n",
            "best params:\n",
            " {'max_depth': 10, 'n_estimators': 300, 'num_leaves': 40}\n"
          ]
        }
      ]
    },
    {
      "cell_type": "markdown",
      "metadata": {
        "id": "bGTWP784dbyI"
      },
      "source": [
        "## 6.XGB Classifier"
      ]
    },
    {
      "cell_type": "code",
      "metadata": {
        "colab": {
          "base_uri": "https://localhost:8080/"
        },
        "id": "tFuF6D0W3QhV",
        "outputId": "cc4e7e36-abb2-4158-d04e-da8dcc11ffe0"
      },
      "source": [
        "#sample\n",
        "X,y=sample_df(X1,0.5)\n",
        "print(X.shape,y.shape)\n",
        "y.value_counts()"
      ],
      "execution_count": null,
      "outputs": [
        {
          "name": "stdout",
          "output_type": "stream",
          "text": [
            "(388783, 22) (388783,)\n"
          ]
        },
        {
          "data": {
            "text/plain": [
              "0    383190\n",
              "1      5593\n",
              "Name: went_on_backorder, dtype: int64"
            ]
          },
          "execution_count": 41,
          "metadata": {
            "tags": []
          },
          "output_type": "execute_result"
        }
      ]
    },
    {
      "cell_type": "code",
      "metadata": {
        "colab": {
          "base_uri": "https://localhost:8080/"
        },
        "id": "5X25Lq9XTU3L",
        "outputId": "7cbecaf4-01a8-4f24-a197-04c5bf19e8e8"
      },
      "source": [
        "#hyperparameter tuning\n",
        "clf=XGBClassifier(max_depth=8)\n",
        "params={'n_estimators':[50,70,80],\n",
        "        'scale_pos_weight':[80,100,120,150],\n",
        "        'colsample_bytree':[0.8,0.6]\n",
        "        }\n",
        "cv=StratifiedKFold(n_splits = 5)\n",
        "grid_search = GridSearchCV(clf, param_grid=params,scoring='roc_auc',cv=cv)\n",
        " \n",
        "start = time()\n",
        "grid_search.fit(X, y)\n",
        "print(\"GrdSearchCV took %.2f seconds\" % ((time() - start)))\n",
        "print(\"best params:\\n\",grid_search.best_params_)"
      ],
      "execution_count": null,
      "outputs": [
        {
          "name": "stdout",
          "output_type": "stream",
          "text": [
            "GrdSearchCV took 4583.77 seconds\n",
            "best params:\n",
            " {'colsample_bytree': 0.6, 'n_estimators': 50, 'scale_pos_weight': 80}\n"
          ]
        }
      ]
    },
    {
      "cell_type": "markdown",
      "metadata": {
        "id": "sLw347nk4AyP"
      },
      "source": [
        "## 7.Catboost"
      ]
    },
    {
      "cell_type": "code",
      "metadata": {
        "colab": {
          "base_uri": "https://localhost:8080/"
        },
        "id": "rpjz7gqx4AyS",
        "outputId": "bf4f4668-52bf-4f8b-9e64-45c3fd7d2aa5"
      },
      "source": [
        "#sample\n",
        "X,y=sample_df(X1,0.5)\n",
        "print(X.shape,y.shape)\n",
        "y.value_counts()"
      ],
      "execution_count": null,
      "outputs": [
        {
          "name": "stdout",
          "output_type": "stream",
          "text": [
            "(388783, 22) (388783,)\n"
          ]
        },
        {
          "data": {
            "text/plain": [
              "0    383190\n",
              "1      5593\n",
              "Name: went_on_backorder, dtype: int64"
            ]
          },
          "execution_count": 48,
          "metadata": {
            "tags": []
          },
          "output_type": "execute_result"
        }
      ]
    },
    {
      "cell_type": "code",
      "metadata": {
        "colab": {
          "base_uri": "https://localhost:8080/"
        },
        "id": "6lmd-5M54AyT",
        "outputId": "3037dd85-4c8f-4995-d6fd-98916391ea84"
      },
      "source": [
        "#hyperparameter tuning\n",
        "clf=CatBoostClassifier(logging_level='Silent',auto_class_weights='Balanced')\n",
        "cv=StratifiedKFold(n_splits = 3)\n",
        "params={'max_depth': [3,4,5,6],\n",
        "        'n_estimators':[50,60,70,80],\n",
        "        }\n",
        "        \n",
        "grid_search = GridSearchCV(clf, param_grid=params,scoring='roc_auc',cv=cv)\n",
        " \n",
        "start = time()\n",
        "grid_search.fit(X, y)\n",
        "print(\"GrdSearchCV took %.2f seconds\" % ((time() - start)))\n",
        "print(\"best params:\\n\",grid_search.best_params_)"
      ],
      "execution_count": null,
      "outputs": [
        {
          "name": "stderr",
          "output_type": "stream",
          "text": [
            "Custom logger is already specified. Specify more than one logger at same time is not thread safe."
          ]
        },
        {
          "name": "stdout",
          "output_type": "stream",
          "text": [
            "GrdSearchCV took 310.86 seconds\n",
            "best params:\n",
            " {'max_depth': 4, 'n_estimators': 70}\n"
          ]
        }
      ]
    },
    {
      "cell_type": "markdown",
      "metadata": {
        "id": "C9Dyn-VR_5Um"
      },
      "source": [
        "## Training & Evaluating individual models"
      ]
    },
    {
      "cell_type": "code",
      "metadata": {
        "id": "QLglRf1Omma4"
      },
      "source": [
        "#base classifiers #traiing and evaluating single classifiers\n",
        "base_clf={'Logistic Regression':SGDClassifier(loss='log',class_weight='balanced',max_iter=5000,penalty='l2',alpha=0.0001),\n",
        "          'Linear_SVM':SGDClassifier(loss='hinge',class_weight='balanced',max_iter=5000,penalty='l2',alpha=0.001),\n",
        "          'Decision Tree':DecisionTreeClassifier(class_weight='balanced',min_samples_split=5, max_depth=6, criterion='entropy'),\n",
        "          'Random Forest':RandomForestClassifier(class_weight= 'balanced_subsample', max_depth=12, n_estimators=300),\n",
        "          'LGBM':LGBMClassifier(class_weight='balanced',boosting_type='dart',min_child_samples=10, \n",
        "                            colsample_bytree=0.6,max_depth=10,n_estimators=300,num_leaves= 40),\n",
        "          'XGBoost':XGBClassifier(colsample_bytree=0.6,scale_pos_weight=80, n_estimators= 50,max_depth=8),\n",
        "          'Catboost':CatBoostClassifier(logging_level='Silent',auto_class_weights='Balanced',max_depth=4,n_estimators=70)\n",
        "          }\n",
        "#to hold results\n",
        "perfomance=pd.DataFrame(columns=['classifier','auc_train','auc_D2','auc_test'])\n",
        "#to hold predicted probabilities\n",
        "predictions=pd.DataFrame()\n",
        "predictions['sku']=D2['sku']\n",
        "predictions=predictions.set_index('sku')\n",
        "\n",
        "#to hold predictions on test data\n",
        "test_predictions=pd.DataFrame()\n",
        "test_predictions['sku']=test['sku']\n",
        "test_predictions=test_predictions.set_index('sku')\n",
        "\n",
        "for name,clf in base_clf.items():\n",
        "  #sample data\n",
        "  X,y=sample_df(X1,0.5)   \n",
        "  \n",
        "  #train                               \n",
        "  calibrated = CalibratedClassifierCV(clf, method='sigmoid', cv=5)\n",
        "  calibrated.fit(X,y)\n",
        "  \n",
        "  #predict probabilities on train data\n",
        "  yhat=calibrated.predict_proba(X)[:,1]\n",
        "\n",
        "  #prediction on holdout data D2\n",
        "  y_pred=calibrated.predict_proba(X2)[:,1]\n",
        "  \n",
        "  #prediction on test data \n",
        "  test_pred=calibrated.predict_proba(X_test)[:,1]\n",
        "  \n",
        "  #compute auc score and record the same\n",
        "  auc_train=roc_auc_score(y,yhat)\n",
        "  auc_d2=roc_auc_score(y2,y_pred)\n",
        "  auc_test=roc_auc_score(y_test,test_pred)\n",
        "  perfomance.loc[len(perfomance.index)]=[name,auc_train,auc_d2,auc_test]\n",
        "\n",
        "  #record predictions\n",
        "  predictions[name]=y_pred\n",
        "  test_predictions[name]=test_pred\n",
        "display(perfomance)"
      ],
      "execution_count": null,
      "outputs": []
    },
    {
      "cell_type": "code",
      "metadata": {
        "colab": {
          "base_uri": "https://localhost:8080/",
          "height": 337
        },
        "id": "24Nskh1_MDiz",
        "outputId": "4e50c73b-7923-48b7-ca83-10e1339f07c6"
      },
      "source": [
        "#plot perfomances of base estimators\n",
        "plt.plot(perfomance.classifier,perfomance.auc_train,color='g',label='train')\n",
        "plt.scatter(perfomance.classifier,perfomance.auc_train,color='g')\n",
        "plt.plot(perfomance.classifier,perfomance.auc_D2,color='b',label='test')\n",
        "plt.scatter(perfomance.classifier,perfomance.auc_D2,color='b')\n",
        "plt.xlabel('Classifiers')\n",
        "plt.ylabel('auc')\n",
        "plt.title('Classifier v/s AUC score')\n",
        "plt.xticks(rotation=15)\n",
        "plt.grid()\n",
        "plt.legend()"
      ],
      "execution_count": null,
      "outputs": [
        {
          "data": {
            "text/plain": [
              "<matplotlib.legend.Legend at 0x7fbac0a31510>"
            ]
          },
          "execution_count": 22,
          "metadata": {
            "tags": []
          },
          "output_type": "execute_result"
        },
        {
          "data": {
            "image/png": "[encoded data removed]",
            "text/plain": [
              "<Figure size 432x288 with 1 Axes>"
            ]
          },
          "metadata": {
            "tags": []
          },
          "output_type": "display_data"
        }
      ]
    },
    {
      "cell_type": "code",
      "metadata": {
        "id": "ACdG_-o1Tzxm"
      },
      "source": [
        "predictions['target']=np.array(y2)\n",
        "test_predictions['target']=np.array(y_test)"
      ],
      "execution_count": null,
      "outputs": []
    },
    {
      "cell_type": "code",
      "metadata": {
        "id": "sh-e5ta8U1c8"
      },
      "source": [
        "#save results to drive\n",
        "predictions.to_csv('/content/drive/MyDrive/CS1/D2_predictions.csv')\n",
        "test_predictions.to_csv('/content/drive/MyDrive/CS1/test_predictions.csv')\n",
        "perfomance.to_csv('/content/drive/MyDrive/CS1/perfomance.csv')"
      ],
      "execution_count": null,
      "outputs": []
    },
    {
      "cell_type": "markdown",
      "metadata": {
        "id": "W-SIp6SWzANv"
      },
      "source": [
        "## Tuning the no. of base estimators for stacking\n",
        "* Experimeting with  different subset of base estimators and a given meta classifier"
      ]
    },
    {
      "cell_type": "code",
      "metadata": {
        "id": "89jBu-q6v1wF"
      },
      "source": [
        "def train_base_clf(k):\n",
        "  '''This function trains the given no.of classifiers on different subsets of data and returns the predictions'''\n",
        "  LogisticRegression=SGDClassifier(loss='log',class_weight='balanced',max_iter=5000,penalty='l2',alpha=0.0001),\n",
        "  SVM=SGDClassifier(loss='hinge',class_weight='balanced',max_iter=5000,penalty='l2',alpha=0.001),\n",
        "  DecisionTree=DecisionTreeClassifier(class_weight='balanced',min_samples_split=5, max_depth=6, criterion='entropy'),\n",
        "  RandomForest=RandomForestClassifier(class_weight= 'balanced_subsample', max_depth=12, n_estimators=300),\n",
        "  LGBM=LGBMClassifier(class_weight='balanced',boosting_type='dart',min_child_samples=10, \n",
        "                              colsample_bytree=0.6,max_depth=10,n_estimators=300,num_leaves= 40),\n",
        "  XGBoost=XGBClassifier(colsample_bytree=0.6,scale_pos_weight=80, n_estimators= 50,max_depth=8),\n",
        "  Catboost=CatBoostClassifier(logging_level='Silent',auto_class_weights='Balanced',max_depth=4,n_estimators=70)\n",
        "            \n",
        "  model_list=[LogisticRegression,SVM,DecisionTree,RandomForest,LGBM,XGBoost,[Catboost]]\n",
        "  predictions=pd.DataFrame()\n",
        "  test_predictions=pd.DataFrame()\n",
        "  print('training started..')\n",
        "  \n",
        "  for i in range(k):\n",
        "    current_model=model_list[i%len(model_list)][0]\n",
        "    \n",
        "    #sample data\n",
        "    X,y=sample_df(X1,0.3)   \n",
        "    \n",
        "    #train  \n",
        "    if (i+1) % 5==0:\n",
        "      print('training base model ',i+1)                           \n",
        "    calibrated = CalibratedClassifierCV(current_model, method='sigmoid', cv=5)\n",
        "    calibrated.fit(X,y)\n",
        "  \n",
        "    #prediction on holdout data D2\n",
        "    y_pred=calibrated.predict_proba(X2)[:,1]\n",
        "  \n",
        "    #prediction on test data \n",
        "    test_pred=calibrated.predict_proba(X_test)[:,1]\n",
        "  \n",
        "    #record predictions\n",
        "    predictions[str(i)]=y_pred\n",
        "    test_predictions[str(i)]=test_pred\n",
        "  return predictions,test_predictions"
      ],
      "execution_count": null,
      "outputs": []
    },
    {
      "cell_type": "code",
      "metadata": {
        "id": "m_kpxfBGwWw4"
      },
      "source": [
        " def train_stacked(predictions,test_predictions, meta_clf):\n",
        "  '''This function trains the given meta classifier on given set of predictions by base estimators'''\n",
        "  #meta classifier\n",
        "  meta_clf=meta_clf\n",
        "  X_meta=predictions\n",
        "  X_test_meta=test_predictions\n",
        "        \n",
        "  #train                               \n",
        "  calibrated = CalibratedClassifierCV(meta_clf, method='sigmoid', cv=5)\n",
        "  calibrated.fit(X_meta,y2)\n",
        "      \n",
        "  #predict probabilities on train data\n",
        "  yhat=calibrated.predict_proba(X_meta)[:,1]\n",
        " \n",
        "  #prediction on test data \n",
        "  test_pred=calibrated.predict_proba(X_test_meta)[:,1]\n",
        "      \n",
        "  #compute auc score and \n",
        "  auc_train=roc_auc_score(y2,yhat)\n",
        "  auc_test=roc_auc_score(y_test,test_pred)\n",
        "  return auc_test,auc_train"
      ],
      "execution_count": null,
      "outputs": []
    },
    {
      "cell_type": "code",
      "metadata": {
        "id": "WDw9WCVU0rTh"
      },
      "source": [
        " #list of classifiers\n",
        "LogisticRegression=SGDClassifier(loss='log',class_weight='balanced',max_iter=5000,penalty='l2',alpha=0.0001),\n",
        "SVM=SGDClassifier(loss='hinge',class_weight='balanced',max_iter=5000,penalty='l2',alpha=0.001),\n",
        "DecisionTree=DecisionTreeClassifier(class_weight='balanced',min_samples_split=5, max_depth=6, criterion='entropy'),\n",
        "RandomForest=RandomForestClassifier(class_weight= 'balanced_subsample', max_depth=12, n_estimators=300),\n",
        "LGBM=LGBMClassifier(class_weight='balanced',boosting_type='dart',min_child_samples=10, \n",
        "                              colsample_bytree=0.6,max_depth=10,n_estimators=300,num_leaves= 40),\n",
        "XGBoost=XGBClassifier(colsample_bytree=0.6,scale_pos_weight=80, n_estimators= 50,max_depth=8),\n",
        "Catboost=CatBoostClassifier(logging_level='Silent',auto_class_weights='Balanced',max_depth=4,n_estimators=70)\n",
        "            \n",
        "model_list=[(LogisticRegression,'LogisticRegression'),\n",
        "            (SVM,'SVM'),\n",
        "            (DecisionTree,'DecisionTree'),\n",
        "            (RandomForest,'RandomForest'),\n",
        "            (LGBM,'LGBM'),\n",
        "            (XGBoost,'XGBoost'),\n",
        "            ([Catboost],'CatBoost')\n",
        "            ]"
      ],
      "execution_count": null,
      "outputs": []
    },
    {
      "cell_type": "code",
      "metadata": {
        "colab": {
          "base_uri": "https://localhost:8080/",
          "height": 266
        },
        "id": "DankuHhl-jTl",
        "outputId": "c16fef55-94b1-4628-d1ab-44ed9deb7709"
      },
      "source": [
        "k=5\n",
        "perfomance=pd.DataFrame(columns=['no_base_clf','meta_clf','train_auc','test_auc'])\n",
        "for meta_clf,name in model_list:\n",
        "  meta_clf=meta_clf[0]\n",
        "  auc_test,auc_train=train_stacked(predictions,test_predictions, meta_clf)\n",
        "  perfomance.loc[len(perfomance.index)]=[k,name,auc_train,auc_test]\n",
        "display(perfomance)"
      ],
      "execution_count": null,
      "outputs": [
        {
          "data": {
            "text/html": [
              "<div>\n",
              "<style scoped>\n",
              "    .dataframe tbody tr th:only-of-type {\n",
              "        vertical-align: middle;\n",
              "    }\n",
              "\n",
              "    .dataframe tbody tr th {\n",
              "        vertical-align: top;\n",
              "    }\n",
              "\n",
              "    .dataframe thead th {\n",
              "        text-align: right;\n",
              "    }\n",
              "</style>\n",
              "<table border=\"1\" class=\"dataframe\">\n",
              "  <thead>\n",
              "    <tr style=\"text-align: right;\">\n",
              "      <th></th>\n",
              "      <th>no_base_clf</th>\n",
              "      <th>meta_clf</th>\n",
              "      <th>train_auc</th>\n",
              "      <th>test_auc</th>\n",
              "    </tr>\n",
              "  </thead>\n",
              "  <tbody>\n",
              "    <tr>\n",
              "      <th>0</th>\n",
              "      <td>5</td>\n",
              "      <td>LogisticRegression</td>\n",
              "      <td>0.949902</td>\n",
              "      <td>0.948313</td>\n",
              "    </tr>\n",
              "    <tr>\n",
              "      <th>1</th>\n",
              "      <td>5</td>\n",
              "      <td>SVM</td>\n",
              "      <td>0.949973</td>\n",
              "      <td>0.948339</td>\n",
              "    </tr>\n",
              "    <tr>\n",
              "      <th>2</th>\n",
              "      <td>5</td>\n",
              "      <td>DecisionTree</td>\n",
              "      <td>0.958310</td>\n",
              "      <td>0.953639</td>\n",
              "    </tr>\n",
              "    <tr>\n",
              "      <th>3</th>\n",
              "      <td>5</td>\n",
              "      <td>RandomForest</td>\n",
              "      <td>0.975921</td>\n",
              "      <td>0.951663</td>\n",
              "    </tr>\n",
              "    <tr>\n",
              "      <th>4</th>\n",
              "      <td>5</td>\n",
              "      <td>LGBM</td>\n",
              "      <td>0.958913</td>\n",
              "      <td>0.950676</td>\n",
              "    </tr>\n",
              "    <tr>\n",
              "      <th>5</th>\n",
              "      <td>5</td>\n",
              "      <td>XGBoost</td>\n",
              "      <td>0.972356</td>\n",
              "      <td>0.953994</td>\n",
              "    </tr>\n",
              "    <tr>\n",
              "      <th>6</th>\n",
              "      <td>5</td>\n",
              "      <td>CatBoost</td>\n",
              "      <td>0.962466</td>\n",
              "      <td>0.954530</td>\n",
              "    </tr>\n",
              "  </tbody>\n",
              "</table>\n",
              "</div>"
            ],
            "text/plain": [
              "  no_base_clf            meta_clf  train_auc  test_auc\n",
              "0           5  LogisticRegression   0.949902  0.948313\n",
              "1           5                 SVM   0.949973  0.948339\n",
              "2           5        DecisionTree   0.958310  0.953639\n",
              "3           5        RandomForest   0.975921  0.951663\n",
              "4           5                LGBM   0.958913  0.950676\n",
              "5           5             XGBoost   0.972356  0.953994\n",
              "6           5            CatBoost   0.962466  0.954530"
            ]
          },
          "metadata": {
            "tags": []
          },
          "output_type": "display_data"
        }
      ]
    },
    {
      "cell_type": "code",
      "metadata": {
        "colab": {
          "base_uri": "https://localhost:8080/",
          "height": 619
        },
        "id": "ajCQmAnaOYSZ",
        "outputId": "16c3fcc2-1765-413f-8f0c-30dd5336e887"
      },
      "source": [
        "k=10\n",
        "predictions,test_predictions=train_base_clf(k)\n",
        "for meta_clf,name in model_list:\n",
        "  meta_clf=meta_clf[0]\n",
        "  print('Training metaclassifier: ',name)\n",
        "  auc_test,auc_train=train_stacked(predictions,test_predictions, meta_clf)\n",
        "  perfomance.loc[len(perfomance.index)]=[k,name,auc_train,auc_test]\n",
        "display(perfomance)"
      ],
      "execution_count": null,
      "outputs": [
        {
          "name": "stdout",
          "output_type": "stream",
          "text": [
            "training started..\n",
            "Training metaclassifier:  LogisticRegression\n",
            "Training metaclassifier:  SVM\n",
            "Training metaclassifier:  DecisionTree\n",
            "Training metaclassifier:  RandomForest\n",
            "Training metaclassifier:  LGBM\n",
            "Training metaclassifier:  XGBoost\n",
            "Training metaclassifier:  CatBoost\n"
          ]
        },
        {
          "data": {
            "text/html": [
              "<div>\n",
              "<style scoped>\n",
              "    .dataframe tbody tr th:only-of-type {\n",
              "        vertical-align: middle;\n",
              "    }\n",
              "\n",
              "    .dataframe tbody tr th {\n",
              "        vertical-align: top;\n",
              "    }\n",
              "\n",
              "    .dataframe thead th {\n",
              "        text-align: right;\n",
              "    }\n",
              "</style>\n",
              "<table border=\"1\" class=\"dataframe\">\n",
              "  <thead>\n",
              "    <tr style=\"text-align: right;\">\n",
              "      <th></th>\n",
              "      <th>no_base_clf</th>\n",
              "      <th>meta_clf</th>\n",
              "      <th>train_auc</th>\n",
              "      <th>test_auc</th>\n",
              "    </tr>\n",
              "  </thead>\n",
              "  <tbody>\n",
              "    <tr>\n",
              "      <th>0</th>\n",
              "      <td>5</td>\n",
              "      <td>LogisticRegression</td>\n",
              "      <td>0.949902</td>\n",
              "      <td>0.948313</td>\n",
              "    </tr>\n",
              "    <tr>\n",
              "      <th>1</th>\n",
              "      <td>5</td>\n",
              "      <td>SVM</td>\n",
              "      <td>0.949973</td>\n",
              "      <td>0.948339</td>\n",
              "    </tr>\n",
              "    <tr>\n",
              "      <th>2</th>\n",
              "      <td>5</td>\n",
              "      <td>DecisionTree</td>\n",
              "      <td>0.958310</td>\n",
              "      <td>0.953639</td>\n",
              "    </tr>\n",
              "    <tr>\n",
              "      <th>3</th>\n",
              "      <td>5</td>\n",
              "      <td>RandomForest</td>\n",
              "      <td>0.975921</td>\n",
              "      <td>0.951663</td>\n",
              "    </tr>\n",
              "    <tr>\n",
              "      <th>4</th>\n",
              "      <td>5</td>\n",
              "      <td>LGBM</td>\n",
              "      <td>0.958913</td>\n",
              "      <td>0.950676</td>\n",
              "    </tr>\n",
              "    <tr>\n",
              "      <th>5</th>\n",
              "      <td>5</td>\n",
              "      <td>XGBoost</td>\n",
              "      <td>0.972356</td>\n",
              "      <td>0.953994</td>\n",
              "    </tr>\n",
              "    <tr>\n",
              "      <th>6</th>\n",
              "      <td>5</td>\n",
              "      <td>CatBoost</td>\n",
              "      <td>0.962466</td>\n",
              "      <td>0.954530</td>\n",
              "    </tr>\n",
              "    <tr>\n",
              "      <th>7</th>\n",
              "      <td>10</td>\n",
              "      <td>LogisticRegression</td>\n",
              "      <td>0.950793</td>\n",
              "      <td>0.949670</td>\n",
              "    </tr>\n",
              "    <tr>\n",
              "      <th>8</th>\n",
              "      <td>10</td>\n",
              "      <td>SVM</td>\n",
              "      <td>0.951366</td>\n",
              "      <td>0.950159</td>\n",
              "    </tr>\n",
              "    <tr>\n",
              "      <th>9</th>\n",
              "      <td>10</td>\n",
              "      <td>DecisionTree</td>\n",
              "      <td>0.958863</td>\n",
              "      <td>0.952696</td>\n",
              "    </tr>\n",
              "    <tr>\n",
              "      <th>10</th>\n",
              "      <td>10</td>\n",
              "      <td>RandomForest</td>\n",
              "      <td>0.977135</td>\n",
              "      <td>0.953228</td>\n",
              "    </tr>\n",
              "    <tr>\n",
              "      <th>11</th>\n",
              "      <td>10</td>\n",
              "      <td>LGBM</td>\n",
              "      <td>0.971533</td>\n",
              "      <td>0.955565</td>\n",
              "    </tr>\n",
              "    <tr>\n",
              "      <th>12</th>\n",
              "      <td>10</td>\n",
              "      <td>XGBoost</td>\n",
              "      <td>0.974874</td>\n",
              "      <td>0.954937</td>\n",
              "    </tr>\n",
              "    <tr>\n",
              "      <th>13</th>\n",
              "      <td>10</td>\n",
              "      <td>CatBoost</td>\n",
              "      <td>0.964662</td>\n",
              "      <td>0.955814</td>\n",
              "    </tr>\n",
              "  </tbody>\n",
              "</table>\n",
              "</div>"
            ],
            "text/plain": [
              "   no_base_clf            meta_clf  train_auc  test_auc\n",
              "0            5  LogisticRegression   0.949902  0.948313\n",
              "1            5                 SVM   0.949973  0.948339\n",
              "2            5        DecisionTree   0.958310  0.953639\n",
              "3            5        RandomForest   0.975921  0.951663\n",
              "4            5                LGBM   0.958913  0.950676\n",
              "5            5             XGBoost   0.972356  0.953994\n",
              "6            5            CatBoost   0.962466  0.954530\n",
              "7           10  LogisticRegression   0.950793  0.949670\n",
              "8           10                 SVM   0.951366  0.950159\n",
              "9           10        DecisionTree   0.958863  0.952696\n",
              "10          10        RandomForest   0.977135  0.953228\n",
              "11          10                LGBM   0.971533  0.955565\n",
              "12          10             XGBoost   0.974874  0.954937\n",
              "13          10            CatBoost   0.964662  0.955814"
            ]
          },
          "metadata": {
            "tags": []
          },
          "output_type": "display_data"
        }
      ]
    },
    {
      "cell_type": "code",
      "metadata": {
        "id": "xg8W1fc5OYLX"
      },
      "source": [
        "perfomance.to_csv('/content/drive/MyDrive/CS1/perfomance180721.csv')"
      ],
      "execution_count": null,
      "outputs": []
    },
    {
      "cell_type": "code",
      "metadata": {
        "colab": {
          "base_uri": "https://localhost:8080/",
          "height": 836
        },
        "id": "p-m-JHZSOYIV",
        "outputId": "1839d949-18b2-4b97-cffe-5b44f6c16f9d"
      },
      "source": [
        "k=20\n",
        "predictions,test_predictions=train_base_clf(k)\n",
        "for meta_clf,name in model_list:\n",
        "  meta_clf=meta_clf[0]\n",
        "  print('Training metaclassifier: ',name)\n",
        "  auc_test,auc_train=train_stacked(predictions,test_predictions, meta_clf)\n",
        "  perfomance.loc[len(perfomance.index)]=[k,name,auc_train,auc_test]\n",
        "display(perfomance)"
      ],
      "execution_count": null,
      "outputs": [
        {
          "name": "stdout",
          "output_type": "stream",
          "text": [
            "training started..\n",
            "Training metaclassifier:  LogisticRegression\n",
            "Training metaclassifier:  SVM\n",
            "Training metaclassifier:  DecisionTree\n",
            "Training metaclassifier:  RandomForest\n",
            "Training metaclassifier:  LGBM\n",
            "Training metaclassifier:  XGBoost\n",
            "Training metaclassifier:  CatBoost\n"
          ]
        },
        {
          "data": {
            "text/html": [
              "<div>\n",
              "<style scoped>\n",
              "    .dataframe tbody tr th:only-of-type {\n",
              "        vertical-align: middle;\n",
              "    }\n",
              "\n",
              "    .dataframe tbody tr th {\n",
              "        vertical-align: top;\n",
              "    }\n",
              "\n",
              "    .dataframe thead th {\n",
              "        text-align: right;\n",
              "    }\n",
              "</style>\n",
              "<table border=\"1\" class=\"dataframe\">\n",
              "  <thead>\n",
              "    <tr style=\"text-align: right;\">\n",
              "      <th></th>\n",
              "      <th>no_base_clf</th>\n",
              "      <th>meta_clf</th>\n",
              "      <th>train_auc</th>\n",
              "      <th>test_auc</th>\n",
              "    </tr>\n",
              "  </thead>\n",
              "  <tbody>\n",
              "    <tr>\n",
              "      <th>0</th>\n",
              "      <td>5</td>\n",
              "      <td>LogisticRegression</td>\n",
              "      <td>0.949902</td>\n",
              "      <td>0.948313</td>\n",
              "    </tr>\n",
              "    <tr>\n",
              "      <th>1</th>\n",
              "      <td>5</td>\n",
              "      <td>SVM</td>\n",
              "      <td>0.949973</td>\n",
              "      <td>0.948339</td>\n",
              "    </tr>\n",
              "    <tr>\n",
              "      <th>2</th>\n",
              "      <td>5</td>\n",
              "      <td>DecisionTree</td>\n",
              "      <td>0.958310</td>\n",
              "      <td>0.953639</td>\n",
              "    </tr>\n",
              "    <tr>\n",
              "      <th>3</th>\n",
              "      <td>5</td>\n",
              "      <td>RandomForest</td>\n",
              "      <td>0.975921</td>\n",
              "      <td>0.951663</td>\n",
              "    </tr>\n",
              "    <tr>\n",
              "      <th>4</th>\n",
              "      <td>5</td>\n",
              "      <td>LGBM</td>\n",
              "      <td>0.958913</td>\n",
              "      <td>0.950676</td>\n",
              "    </tr>\n",
              "    <tr>\n",
              "      <th>5</th>\n",
              "      <td>5</td>\n",
              "      <td>XGBoost</td>\n",
              "      <td>0.972356</td>\n",
              "      <td>0.953994</td>\n",
              "    </tr>\n",
              "    <tr>\n",
              "      <th>6</th>\n",
              "      <td>5</td>\n",
              "      <td>CatBoost</td>\n",
              "      <td>0.962466</td>\n",
              "      <td>0.954530</td>\n",
              "    </tr>\n",
              "    <tr>\n",
              "      <th>7</th>\n",
              "      <td>10</td>\n",
              "      <td>LogisticRegression</td>\n",
              "      <td>0.950793</td>\n",
              "      <td>0.949670</td>\n",
              "    </tr>\n",
              "    <tr>\n",
              "      <th>8</th>\n",
              "      <td>10</td>\n",
              "      <td>SVM</td>\n",
              "      <td>0.951366</td>\n",
              "      <td>0.950159</td>\n",
              "    </tr>\n",
              "    <tr>\n",
              "      <th>9</th>\n",
              "      <td>10</td>\n",
              "      <td>DecisionTree</td>\n",
              "      <td>0.958863</td>\n",
              "      <td>0.952696</td>\n",
              "    </tr>\n",
              "    <tr>\n",
              "      <th>10</th>\n",
              "      <td>10</td>\n",
              "      <td>RandomForest</td>\n",
              "      <td>0.977135</td>\n",
              "      <td>0.953228</td>\n",
              "    </tr>\n",
              "    <tr>\n",
              "      <th>11</th>\n",
              "      <td>10</td>\n",
              "      <td>LGBM</td>\n",
              "      <td>0.971533</td>\n",
              "      <td>0.955565</td>\n",
              "    </tr>\n",
              "    <tr>\n",
              "      <th>12</th>\n",
              "      <td>10</td>\n",
              "      <td>XGBoost</td>\n",
              "      <td>0.974874</td>\n",
              "      <td>0.954937</td>\n",
              "    </tr>\n",
              "    <tr>\n",
              "      <th>13</th>\n",
              "      <td>10</td>\n",
              "      <td>CatBoost</td>\n",
              "      <td>0.964662</td>\n",
              "      <td>0.955814</td>\n",
              "    </tr>\n",
              "    <tr>\n",
              "      <th>14</th>\n",
              "      <td>20</td>\n",
              "      <td>LogisticRegression</td>\n",
              "      <td>0.951283</td>\n",
              "      <td>0.950220</td>\n",
              "    </tr>\n",
              "    <tr>\n",
              "      <th>15</th>\n",
              "      <td>20</td>\n",
              "      <td>SVM</td>\n",
              "      <td>0.952938</td>\n",
              "      <td>0.951780</td>\n",
              "    </tr>\n",
              "    <tr>\n",
              "      <th>16</th>\n",
              "      <td>20</td>\n",
              "      <td>DecisionTree</td>\n",
              "      <td>0.959814</td>\n",
              "      <td>0.954441</td>\n",
              "    </tr>\n",
              "    <tr>\n",
              "      <th>17</th>\n",
              "      <td>20</td>\n",
              "      <td>RandomForest</td>\n",
              "      <td>0.976660</td>\n",
              "      <td>0.953245</td>\n",
              "    </tr>\n",
              "    <tr>\n",
              "      <th>18</th>\n",
              "      <td>20</td>\n",
              "      <td>LGBM</td>\n",
              "      <td>0.974292</td>\n",
              "      <td>0.956008</td>\n",
              "    </tr>\n",
              "    <tr>\n",
              "      <th>19</th>\n",
              "      <td>20</td>\n",
              "      <td>XGBoost</td>\n",
              "      <td>0.976639</td>\n",
              "      <td>0.955351</td>\n",
              "    </tr>\n",
              "    <tr>\n",
              "      <th>20</th>\n",
              "      <td>20</td>\n",
              "      <td>CatBoost</td>\n",
              "      <td>0.967080</td>\n",
              "      <td>0.955337</td>\n",
              "    </tr>\n",
              "  </tbody>\n",
              "</table>\n",
              "</div>"
            ],
            "text/plain": [
              "   no_base_clf            meta_clf  train_auc  test_auc\n",
              "0            5  LogisticRegression   0.949902  0.948313\n",
              "1            5                 SVM   0.949973  0.948339\n",
              "2            5        DecisionTree   0.958310  0.953639\n",
              "3            5        RandomForest   0.975921  0.951663\n",
              "4            5                LGBM   0.958913  0.950676\n",
              "5            5             XGBoost   0.972356  0.953994\n",
              "6            5            CatBoost   0.962466  0.954530\n",
              "7           10  LogisticRegression   0.950793  0.949670\n",
              "8           10                 SVM   0.951366  0.950159\n",
              "9           10        DecisionTree   0.958863  0.952696\n",
              "10          10        RandomForest   0.977135  0.953228\n",
              "11          10                LGBM   0.971533  0.955565\n",
              "12          10             XGBoost   0.974874  0.954937\n",
              "13          10            CatBoost   0.964662  0.955814\n",
              "14          20  LogisticRegression   0.951283  0.950220\n",
              "15          20                 SVM   0.952938  0.951780\n",
              "16          20        DecisionTree   0.959814  0.954441\n",
              "17          20        RandomForest   0.976660  0.953245\n",
              "18          20                LGBM   0.974292  0.956008\n",
              "19          20             XGBoost   0.976639  0.955351\n",
              "20          20            CatBoost   0.967080  0.955337"
            ]
          },
          "metadata": {
            "tags": []
          },
          "output_type": "display_data"
        }
      ]
    },
    {
      "cell_type": "code",
      "metadata": {
        "id": "KxDiCm5Ephtp"
      },
      "source": [
        "perfomance.to_csv('/content/drive/MyDrive/CS1/perfomance180721.csv')"
      ],
      "execution_count": null,
      "outputs": []
    },
    {
      "cell_type": "code",
      "metadata": {
        "colab": {
          "base_uri": "https://localhost:8080/"
        },
        "id": "5ddYNYt1p8ly",
        "outputId": "da8b2d66-5e10-450f-9178-7dc775b92072"
      },
      "source": [
        "k=50\n",
        "predictions,test_predictions=train_base_clf(k)"
      ],
      "execution_count": null,
      "outputs": [
        {
          "name": "stdout",
          "output_type": "stream",
          "text": [
            "training started..\n",
            "training base model  5\n",
            "training base model  10\n",
            "training base model  15\n",
            "training base model  20\n",
            "training base model  25\n",
            "training base model  30\n",
            "training base model  35\n",
            "training base model  40\n",
            "training base model  45\n",
            "training base model  50\n"
          ]
        }
      ]
    },
    {
      "cell_type": "code",
      "metadata": {
        "id": "NSYybzw3fCg_"
      },
      "source": [
        "predictions.to_csv('/content/drive/MyDrive/CS1/predictions.csv')\n",
        "test_predictions.to_csv('/content/drive/MyDrive/CS1/test_predictions.csv')"
      ],
      "execution_count": null,
      "outputs": []
    },
    {
      "cell_type": "code",
      "metadata": {
        "id": "Bw10OdPfgK6b"
      },
      "source": [
        "perfomance=pd.read_csv('/content/drive/MyDrive/CS1/perfomance180721.csv')\n",
        "perfomance=perfomance.drop('Unnamed: 0',axis=1)"
      ],
      "execution_count": null,
      "outputs": []
    },
    {
      "cell_type": "code",
      "metadata": {
        "id": "d94nCxF4FXVY"
      },
      "source": [
        "predictions=pd.read_csv('/content/drive/MyDrive/CS1/predictions.csv')\n",
        "test_predictions=pd.read_csv('/content/drive/MyDrive/CS1/test_predictions.csv')\n",
        "predictions=predictions.drop('Unnamed: 0',axis=1)\n",
        "test_predictions=test_predictions.drop('Unnamed: 0',axis=1)"
      ],
      "execution_count": null,
      "outputs": []
    },
    {
      "cell_type": "code",
      "metadata": {
        "colab": {
          "base_uri": "https://localhost:8080/",
          "height": 1000
        },
        "id": "2aq8qY6XW8fK",
        "outputId": "cf292358-bd5b-406c-aca7-fbddfbcc242a"
      },
      "source": [
        "k=50\n",
        "for meta_clf,name in model_list:\n",
        "  meta_clf=meta_clf[0]\n",
        "  print('Training metaclassifier: ',name)\n",
        "  auc_test,auc_train=train_stacked(predictions,test_predictions, meta_clf)\n",
        "  perfomance.loc[len(perfomance.index)]=[k,name,auc_train,auc_test]\n",
        "  perfomance.to_csv('/content/drive/MyDrive/CS1/perfomance180721.csv')\n",
        "display(perfomance)"
      ],
      "execution_count": null,
      "outputs": [
        {
          "name": "stdout",
          "output_type": "stream",
          "text": [
            "Training metaclassifier:  LogisticRegression\n",
            "Training metaclassifier:  SVM\n",
            "Training metaclassifier:  DecisionTree\n",
            "Training metaclassifier:  RandomForest\n",
            "Training metaclassifier:  LGBM\n",
            "Training metaclassifier:  XGBoost\n",
            "Training metaclassifier:  CatBoost\n"
          ]
        },
        {
          "data": {
            "text/html": [
              "<div>\n",
              "<style scoped>\n",
              "    .dataframe tbody tr th:only-of-type {\n",
              "        vertical-align: middle;\n",
              "    }\n",
              "\n",
              "    .dataframe tbody tr th {\n",
              "        vertical-align: top;\n",
              "    }\n",
              "\n",
              "    .dataframe thead th {\n",
              "        text-align: right;\n",
              "    }\n",
              "</style>\n",
              "<table border=\"1\" class=\"dataframe\">\n",
              "  <thead>\n",
              "    <tr style=\"text-align: right;\">\n",
              "      <th></th>\n",
              "      <th>no_base_clf</th>\n",
              "      <th>meta_clf</th>\n",
              "      <th>train_auc</th>\n",
              "      <th>test_auc</th>\n",
              "    </tr>\n",
              "  </thead>\n",
              "  <tbody>\n",
              "    <tr>\n",
              "      <th>0</th>\n",
              "      <td>5</td>\n",
              "      <td>LogisticRegression</td>\n",
              "      <td>0.949902</td>\n",
              "      <td>0.948313</td>\n",
              "    </tr>\n",
              "    <tr>\n",
              "      <th>1</th>\n",
              "      <td>5</td>\n",
              "      <td>SVM</td>\n",
              "      <td>0.949973</td>\n",
              "      <td>0.948339</td>\n",
              "    </tr>\n",
              "    <tr>\n",
              "      <th>2</th>\n",
              "      <td>5</td>\n",
              "      <td>DecisionTree</td>\n",
              "      <td>0.958310</td>\n",
              "      <td>0.953639</td>\n",
              "    </tr>\n",
              "    <tr>\n",
              "      <th>3</th>\n",
              "      <td>5</td>\n",
              "      <td>RandomForest</td>\n",
              "      <td>0.975921</td>\n",
              "      <td>0.951663</td>\n",
              "    </tr>\n",
              "    <tr>\n",
              "      <th>4</th>\n",
              "      <td>5</td>\n",
              "      <td>LGBM</td>\n",
              "      <td>0.958913</td>\n",
              "      <td>0.950676</td>\n",
              "    </tr>\n",
              "    <tr>\n",
              "      <th>5</th>\n",
              "      <td>5</td>\n",
              "      <td>XGBoost</td>\n",
              "      <td>0.972356</td>\n",
              "      <td>0.953994</td>\n",
              "    </tr>\n",
              "    <tr>\n",
              "      <th>6</th>\n",
              "      <td>5</td>\n",
              "      <td>CatBoost</td>\n",
              "      <td>0.962466</td>\n",
              "      <td>0.954530</td>\n",
              "    </tr>\n",
              "    <tr>\n",
              "      <th>7</th>\n",
              "      <td>10</td>\n",
              "      <td>LogisticRegression</td>\n",
              "      <td>0.950793</td>\n",
              "      <td>0.949670</td>\n",
              "    </tr>\n",
              "    <tr>\n",
              "      <th>8</th>\n",
              "      <td>10</td>\n",
              "      <td>SVM</td>\n",
              "      <td>0.951366</td>\n",
              "      <td>0.950159</td>\n",
              "    </tr>\n",
              "    <tr>\n",
              "      <th>9</th>\n",
              "      <td>10</td>\n",
              "      <td>DecisionTree</td>\n",
              "      <td>0.958863</td>\n",
              "      <td>0.952696</td>\n",
              "    </tr>\n",
              "    <tr>\n",
              "      <th>10</th>\n",
              "      <td>10</td>\n",
              "      <td>RandomForest</td>\n",
              "      <td>0.977135</td>\n",
              "      <td>0.953228</td>\n",
              "    </tr>\n",
              "    <tr>\n",
              "      <th>11</th>\n",
              "      <td>10</td>\n",
              "      <td>LGBM</td>\n",
              "      <td>0.971533</td>\n",
              "      <td>0.955565</td>\n",
              "    </tr>\n",
              "    <tr>\n",
              "      <th>12</th>\n",
              "      <td>10</td>\n",
              "      <td>XGBoost</td>\n",
              "      <td>0.974874</td>\n",
              "      <td>0.954937</td>\n",
              "    </tr>\n",
              "    <tr>\n",
              "      <th>13</th>\n",
              "      <td>10</td>\n",
              "      <td>CatBoost</td>\n",
              "      <td>0.964662</td>\n",
              "      <td>0.955814</td>\n",
              "    </tr>\n",
              "    <tr>\n",
              "      <th>14</th>\n",
              "      <td>20</td>\n",
              "      <td>LogisticRegression</td>\n",
              "      <td>0.951283</td>\n",
              "      <td>0.950220</td>\n",
              "    </tr>\n",
              "    <tr>\n",
              "      <th>15</th>\n",
              "      <td>20</td>\n",
              "      <td>SVM</td>\n",
              "      <td>0.952938</td>\n",
              "      <td>0.951780</td>\n",
              "    </tr>\n",
              "    <tr>\n",
              "      <th>16</th>\n",
              "      <td>20</td>\n",
              "      <td>DecisionTree</td>\n",
              "      <td>0.959814</td>\n",
              "      <td>0.954441</td>\n",
              "    </tr>\n",
              "    <tr>\n",
              "      <th>17</th>\n",
              "      <td>20</td>\n",
              "      <td>RandomForest</td>\n",
              "      <td>0.976660</td>\n",
              "      <td>0.953245</td>\n",
              "    </tr>\n",
              "    <tr>\n",
              "      <th>18</th>\n",
              "      <td>20</td>\n",
              "      <td>LGBM</td>\n",
              "      <td>0.974292</td>\n",
              "      <td>0.956008</td>\n",
              "    </tr>\n",
              "    <tr>\n",
              "      <th>19</th>\n",
              "      <td>20</td>\n",
              "      <td>XGBoost</td>\n",
              "      <td>0.976639</td>\n",
              "      <td>0.955351</td>\n",
              "    </tr>\n",
              "    <tr>\n",
              "      <th>20</th>\n",
              "      <td>20</td>\n",
              "      <td>CatBoost</td>\n",
              "      <td>0.967080</td>\n",
              "      <td>0.955337</td>\n",
              "    </tr>\n",
              "    <tr>\n",
              "      <th>21</th>\n",
              "      <td>50</td>\n",
              "      <td>LogisticRegression</td>\n",
              "      <td>0.950456</td>\n",
              "      <td>0.949564</td>\n",
              "    </tr>\n",
              "    <tr>\n",
              "      <th>22</th>\n",
              "      <td>50</td>\n",
              "      <td>SVM</td>\n",
              "      <td>0.953290</td>\n",
              "      <td>0.952196</td>\n",
              "    </tr>\n",
              "    <tr>\n",
              "      <th>23</th>\n",
              "      <td>50</td>\n",
              "      <td>DecisionTree</td>\n",
              "      <td>0.961506</td>\n",
              "      <td>0.953408</td>\n",
              "    </tr>\n",
              "    <tr>\n",
              "      <th>24</th>\n",
              "      <td>50</td>\n",
              "      <td>RandomForest</td>\n",
              "      <td>0.977545</td>\n",
              "      <td>0.954244</td>\n",
              "    </tr>\n",
              "    <tr>\n",
              "      <th>25</th>\n",
              "      <td>50</td>\n",
              "      <td>LGBM</td>\n",
              "      <td>0.977161</td>\n",
              "      <td>0.956189</td>\n",
              "    </tr>\n",
              "    <tr>\n",
              "      <th>26</th>\n",
              "      <td>50</td>\n",
              "      <td>XGBoost</td>\n",
              "      <td>0.979505</td>\n",
              "      <td>0.955917</td>\n",
              "    </tr>\n",
              "    <tr>\n",
              "      <th>27</th>\n",
              "      <td>50</td>\n",
              "      <td>CatBoost</td>\n",
              "      <td>0.968702</td>\n",
              "      <td>0.956511</td>\n",
              "    </tr>\n",
              "  </tbody>\n",
              "</table>\n",
              "</div>"
            ],
            "text/plain": [
              "    no_base_clf            meta_clf  train_auc  test_auc\n",
              "0             5  LogisticRegression   0.949902  0.948313\n",
              "1             5                 SVM   0.949973  0.948339\n",
              "2             5        DecisionTree   0.958310  0.953639\n",
              "3             5        RandomForest   0.975921  0.951663\n",
              "4             5                LGBM   0.958913  0.950676\n",
              "5             5             XGBoost   0.972356  0.953994\n",
              "6             5            CatBoost   0.962466  0.954530\n",
              "7            10  LogisticRegression   0.950793  0.949670\n",
              "8            10                 SVM   0.951366  0.950159\n",
              "9            10        DecisionTree   0.958863  0.952696\n",
              "10           10        RandomForest   0.977135  0.953228\n",
              "11           10                LGBM   0.971533  0.955565\n",
              "12           10             XGBoost   0.974874  0.954937\n",
              "13           10            CatBoost   0.964662  0.955814\n",
              "14           20  LogisticRegression   0.951283  0.950220\n",
              "15           20                 SVM   0.952938  0.951780\n",
              "16           20        DecisionTree   0.959814  0.954441\n",
              "17           20        RandomForest   0.976660  0.953245\n",
              "18           20                LGBM   0.974292  0.956008\n",
              "19           20             XGBoost   0.976639  0.955351\n",
              "20           20            CatBoost   0.967080  0.955337\n",
              "21           50  LogisticRegression   0.950456  0.949564\n",
              "22           50                 SVM   0.953290  0.952196\n",
              "23           50        DecisionTree   0.961506  0.953408\n",
              "24           50        RandomForest   0.977545  0.954244\n",
              "25           50                LGBM   0.977161  0.956189\n",
              "26           50             XGBoost   0.979505  0.955917\n",
              "27           50            CatBoost   0.968702  0.956511"
            ]
          },
          "metadata": {
            "tags": []
          },
          "output_type": "display_data"
        }
      ]
    },
    {
      "cell_type": "code",
      "metadata": {
        "colab": {
          "base_uri": "https://localhost:8080/"
        },
        "id": "uiJBDGbxJYuo",
        "outputId": "37d6ead0-9436-416d-e483-b03f5ac15f73"
      },
      "source": [
        "k=30\n",
        "predictions,test_predictions=train_base_clf(k)"
      ],
      "execution_count": null,
      "outputs": [
        {
          "name": "stdout",
          "output_type": "stream",
          "text": [
            "training started..\n",
            "training base model  5\n",
            "training base model  10\n",
            "training base model  15\n",
            "training base model  20\n",
            "training base model  25\n",
            "training base model  30\n"
          ]
        }
      ]
    },
    {
      "cell_type": "code",
      "metadata": {
        "id": "lEN_C8a5nrMc"
      },
      "source": [
        "predictions.to_csv('/content/drive/MyDrive/CS1/predictions30.csv')\n",
        "test_predictions.to_csv('/content/drive/MyDrive/CS1/test_predictions30.csv')"
      ],
      "execution_count": null,
      "outputs": []
    },
    {
      "cell_type": "code",
      "metadata": {
        "colab": {
          "base_uri": "https://localhost:8080/",
          "height": 1000
        },
        "id": "gDhUTk6knyCk",
        "outputId": "b0daa15a-14e3-4344-8058-2795e69837ce"
      },
      "source": [
        "#results with different meta-models\n",
        "for meta_clf,name in model_list:\n",
        "  meta_clf=meta_clf[0]\n",
        "  print('Training metaclassifier: ',name)\n",
        "  auc_test,auc_train=train_stacked(predictions,test_predictions, meta_clf)\n",
        "  perfomance.loc[len(perfomance.index)]=[k,name,auc_train,auc_test]\n",
        "  perfomance.to_csv('/content/drive/MyDrive/CS1/perfomance180721.csv')\n",
        "display(perfomance)"
      ],
      "execution_count": null,
      "outputs": [
        {
          "name": "stdout",
          "output_type": "stream",
          "text": [
            "Training metaclassifier:  LogisticRegression\n",
            "Training metaclassifier:  SVM\n",
            "Training metaclassifier:  DecisionTree\n",
            "Training metaclassifier:  RandomForest\n",
            "Training metaclassifier:  LGBM\n",
            "Training metaclassifier:  XGBoost\n",
            "Training metaclassifier:  CatBoost\n"
          ]
        },
        {
          "data": {
            "text/html": [
              "<div>\n",
              "<style scoped>\n",
              "    .dataframe tbody tr th:only-of-type {\n",
              "        vertical-align: middle;\n",
              "    }\n",
              "\n",
              "    .dataframe tbody tr th {\n",
              "        vertical-align: top;\n",
              "    }\n",
              "\n",
              "    .dataframe thead th {\n",
              "        text-align: right;\n",
              "    }\n",
              "</style>\n",
              "<table border=\"1\" class=\"dataframe\">\n",
              "  <thead>\n",
              "    <tr style=\"text-align: right;\">\n",
              "      <th></th>\n",
              "      <th>no_base_clf</th>\n",
              "      <th>meta_clf</th>\n",
              "      <th>train_auc</th>\n",
              "      <th>test_auc</th>\n",
              "    </tr>\n",
              "  </thead>\n",
              "  <tbody>\n",
              "    <tr>\n",
              "      <th>0</th>\n",
              "      <td>5</td>\n",
              "      <td>LogisticRegression</td>\n",
              "      <td>0.949902</td>\n",
              "      <td>0.948313</td>\n",
              "    </tr>\n",
              "    <tr>\n",
              "      <th>1</th>\n",
              "      <td>5</td>\n",
              "      <td>SVM</td>\n",
              "      <td>0.949973</td>\n",
              "      <td>0.948339</td>\n",
              "    </tr>\n",
              "    <tr>\n",
              "      <th>2</th>\n",
              "      <td>5</td>\n",
              "      <td>DecisionTree</td>\n",
              "      <td>0.958310</td>\n",
              "      <td>0.953639</td>\n",
              "    </tr>\n",
              "    <tr>\n",
              "      <th>3</th>\n",
              "      <td>5</td>\n",
              "      <td>RandomForest</td>\n",
              "      <td>0.975921</td>\n",
              "      <td>0.951663</td>\n",
              "    </tr>\n",
              "    <tr>\n",
              "      <th>4</th>\n",
              "      <td>5</td>\n",
              "      <td>LGBM</td>\n",
              "      <td>0.958913</td>\n",
              "      <td>0.950676</td>\n",
              "    </tr>\n",
              "    <tr>\n",
              "      <th>5</th>\n",
              "      <td>5</td>\n",
              "      <td>XGBoost</td>\n",
              "      <td>0.972356</td>\n",
              "      <td>0.953994</td>\n",
              "    </tr>\n",
              "    <tr>\n",
              "      <th>6</th>\n",
              "      <td>5</td>\n",
              "      <td>CatBoost</td>\n",
              "      <td>0.962466</td>\n",
              "      <td>0.954530</td>\n",
              "    </tr>\n",
              "    <tr>\n",
              "      <th>7</th>\n",
              "      <td>10</td>\n",
              "      <td>LogisticRegression</td>\n",
              "      <td>0.950793</td>\n",
              "      <td>0.949670</td>\n",
              "    </tr>\n",
              "    <tr>\n",
              "      <th>8</th>\n",
              "      <td>10</td>\n",
              "      <td>SVM</td>\n",
              "      <td>0.951366</td>\n",
              "      <td>0.950159</td>\n",
              "    </tr>\n",
              "    <tr>\n",
              "      <th>9</th>\n",
              "      <td>10</td>\n",
              "      <td>DecisionTree</td>\n",
              "      <td>0.958863</td>\n",
              "      <td>0.952696</td>\n",
              "    </tr>\n",
              "    <tr>\n",
              "      <th>10</th>\n",
              "      <td>10</td>\n",
              "      <td>RandomForest</td>\n",
              "      <td>0.977135</td>\n",
              "      <td>0.953228</td>\n",
              "    </tr>\n",
              "    <tr>\n",
              "      <th>11</th>\n",
              "      <td>10</td>\n",
              "      <td>LGBM</td>\n",
              "      <td>0.971533</td>\n",
              "      <td>0.955565</td>\n",
              "    </tr>\n",
              "    <tr>\n",
              "      <th>12</th>\n",
              "      <td>10</td>\n",
              "      <td>XGBoost</td>\n",
              "      <td>0.974874</td>\n",
              "      <td>0.954937</td>\n",
              "    </tr>\n",
              "    <tr>\n",
              "      <th>13</th>\n",
              "      <td>10</td>\n",
              "      <td>CatBoost</td>\n",
              "      <td>0.964662</td>\n",
              "      <td>0.955814</td>\n",
              "    </tr>\n",
              "    <tr>\n",
              "      <th>14</th>\n",
              "      <td>20</td>\n",
              "      <td>LogisticRegression</td>\n",
              "      <td>0.951283</td>\n",
              "      <td>0.950220</td>\n",
              "    </tr>\n",
              "    <tr>\n",
              "      <th>15</th>\n",
              "      <td>20</td>\n",
              "      <td>SVM</td>\n",
              "      <td>0.952938</td>\n",
              "      <td>0.951780</td>\n",
              "    </tr>\n",
              "    <tr>\n",
              "      <th>16</th>\n",
              "      <td>20</td>\n",
              "      <td>DecisionTree</td>\n",
              "      <td>0.959814</td>\n",
              "      <td>0.954441</td>\n",
              "    </tr>\n",
              "    <tr>\n",
              "      <th>17</th>\n",
              "      <td>20</td>\n",
              "      <td>RandomForest</td>\n",
              "      <td>0.976660</td>\n",
              "      <td>0.953245</td>\n",
              "    </tr>\n",
              "    <tr>\n",
              "      <th>18</th>\n",
              "      <td>20</td>\n",
              "      <td>LGBM</td>\n",
              "      <td>0.974292</td>\n",
              "      <td>0.956008</td>\n",
              "    </tr>\n",
              "    <tr>\n",
              "      <th>19</th>\n",
              "      <td>20</td>\n",
              "      <td>XGBoost</td>\n",
              "      <td>0.976639</td>\n",
              "      <td>0.955351</td>\n",
              "    </tr>\n",
              "    <tr>\n",
              "      <th>20</th>\n",
              "      <td>20</td>\n",
              "      <td>CatBoost</td>\n",
              "      <td>0.967080</td>\n",
              "      <td>0.955337</td>\n",
              "    </tr>\n",
              "    <tr>\n",
              "      <th>21</th>\n",
              "      <td>50</td>\n",
              "      <td>LogisticRegression</td>\n",
              "      <td>0.950456</td>\n",
              "      <td>0.949564</td>\n",
              "    </tr>\n",
              "    <tr>\n",
              "      <th>22</th>\n",
              "      <td>50</td>\n",
              "      <td>SVM</td>\n",
              "      <td>0.953290</td>\n",
              "      <td>0.952196</td>\n",
              "    </tr>\n",
              "    <tr>\n",
              "      <th>23</th>\n",
              "      <td>50</td>\n",
              "      <td>DecisionTree</td>\n",
              "      <td>0.961506</td>\n",
              "      <td>0.953408</td>\n",
              "    </tr>\n",
              "    <tr>\n",
              "      <th>24</th>\n",
              "      <td>50</td>\n",
              "      <td>RandomForest</td>\n",
              "      <td>0.977545</td>\n",
              "      <td>0.954244</td>\n",
              "    </tr>\n",
              "    <tr>\n",
              "      <th>25</th>\n",
              "      <td>50</td>\n",
              "      <td>LGBM</td>\n",
              "      <td>0.977161</td>\n",
              "      <td>0.956189</td>\n",
              "    </tr>\n",
              "    <tr>\n",
              "      <th>26</th>\n",
              "      <td>50</td>\n",
              "      <td>XGBoost</td>\n",
              "      <td>0.979505</td>\n",
              "      <td>0.955917</td>\n",
              "    </tr>\n",
              "    <tr>\n",
              "      <th>27</th>\n",
              "      <td>50</td>\n",
              "      <td>CatBoost</td>\n",
              "      <td>0.968702</td>\n",
              "      <td>0.956511</td>\n",
              "    </tr>\n",
              "    <tr>\n",
              "      <th>28</th>\n",
              "      <td>30</td>\n",
              "      <td>LogisticRegression</td>\n",
              "      <td>0.950821</td>\n",
              "      <td>0.949945</td>\n",
              "    </tr>\n",
              "    <tr>\n",
              "      <th>29</th>\n",
              "      <td>30</td>\n",
              "      <td>SVM</td>\n",
              "      <td>0.953000</td>\n",
              "      <td>0.951988</td>\n",
              "    </tr>\n",
              "    <tr>\n",
              "      <th>30</th>\n",
              "      <td>30</td>\n",
              "      <td>DecisionTree</td>\n",
              "      <td>0.960572</td>\n",
              "      <td>0.953681</td>\n",
              "    </tr>\n",
              "    <tr>\n",
              "      <th>31</th>\n",
              "      <td>30</td>\n",
              "      <td>RandomForest</td>\n",
              "      <td>0.977281</td>\n",
              "      <td>0.953537</td>\n",
              "    </tr>\n",
              "    <tr>\n",
              "      <th>32</th>\n",
              "      <td>30</td>\n",
              "      <td>LGBM</td>\n",
              "      <td>0.975435</td>\n",
              "      <td>0.955809</td>\n",
              "    </tr>\n",
              "    <tr>\n",
              "      <th>33</th>\n",
              "      <td>30</td>\n",
              "      <td>XGBoost</td>\n",
              "      <td>0.977992</td>\n",
              "      <td>0.955535</td>\n",
              "    </tr>\n",
              "    <tr>\n",
              "      <th>34</th>\n",
              "      <td>30</td>\n",
              "      <td>CatBoost</td>\n",
              "      <td>0.967704</td>\n",
              "      <td>0.955158</td>\n",
              "    </tr>\n",
              "  </tbody>\n",
              "</table>\n",
              "</div>"
            ],
            "text/plain": [
              "    no_base_clf            meta_clf  train_auc  test_auc\n",
              "0             5  LogisticRegression   0.949902  0.948313\n",
              "1             5                 SVM   0.949973  0.948339\n",
              "2             5        DecisionTree   0.958310  0.953639\n",
              "3             5        RandomForest   0.975921  0.951663\n",
              "4             5                LGBM   0.958913  0.950676\n",
              "5             5             XGBoost   0.972356  0.953994\n",
              "6             5            CatBoost   0.962466  0.954530\n",
              "7            10  LogisticRegression   0.950793  0.949670\n",
              "8            10                 SVM   0.951366  0.950159\n",
              "9            10        DecisionTree   0.958863  0.952696\n",
              "10           10        RandomForest   0.977135  0.953228\n",
              "11           10                LGBM   0.971533  0.955565\n",
              "12           10             XGBoost   0.974874  0.954937\n",
              "13           10            CatBoost   0.964662  0.955814\n",
              "14           20  LogisticRegression   0.951283  0.950220\n",
              "15           20                 SVM   0.952938  0.951780\n",
              "16           20        DecisionTree   0.959814  0.954441\n",
              "17           20        RandomForest   0.976660  0.953245\n",
              "18           20                LGBM   0.974292  0.956008\n",
              "19           20             XGBoost   0.976639  0.955351\n",
              "20           20            CatBoost   0.967080  0.955337\n",
              "21           50  LogisticRegression   0.950456  0.949564\n",
              "22           50                 SVM   0.953290  0.952196\n",
              "23           50        DecisionTree   0.961506  0.953408\n",
              "24           50        RandomForest   0.977545  0.954244\n",
              "25           50                LGBM   0.977161  0.956189\n",
              "26           50             XGBoost   0.979505  0.955917\n",
              "27           50            CatBoost   0.968702  0.956511\n",
              "28           30  LogisticRegression   0.950821  0.949945\n",
              "29           30                 SVM   0.953000  0.951988\n",
              "30           30        DecisionTree   0.960572  0.953681\n",
              "31           30        RandomForest   0.977281  0.953537\n",
              "32           30                LGBM   0.975435  0.955809\n",
              "33           30             XGBoost   0.977992  0.955535\n",
              "34           30            CatBoost   0.967704  0.955158"
            ]
          },
          "metadata": {
            "tags": []
          },
          "output_type": "display_data"
        }
      ]
    },
    {
      "cell_type": "code",
      "metadata": {
        "id": "j1Dd_A628_Ql"
      },
      "source": [
        "#get top scores\n",
        "perfomance=perfomance.sort_values(by=['test_auc'],ascending=False)"
      ],
      "execution_count": null,
      "outputs": []
    },
    {
      "cell_type": "code",
      "metadata": {
        "colab": {
          "base_uri": "https://localhost:8080/",
          "height": 1000
        },
        "id": "Yn-ecVMj7Io0",
        "outputId": "5f471802-f37f-4545-a7b1-90ac19cca96e"
      },
      "source": [
        "perfomance"
      ],
      "execution_count": null,
      "outputs": [
        {
          "data": {
            "text/html": [
              "<div>\n",
              "<style scoped>\n",
              "    .dataframe tbody tr th:only-of-type {\n",
              "        vertical-align: middle;\n",
              "    }\n",
              "\n",
              "    .dataframe tbody tr th {\n",
              "        vertical-align: top;\n",
              "    }\n",
              "\n",
              "    .dataframe thead th {\n",
              "        text-align: right;\n",
              "    }\n",
              "</style>\n",
              "<table border=\"1\" class=\"dataframe\">\n",
              "  <thead>\n",
              "    <tr style=\"text-align: right;\">\n",
              "      <th></th>\n",
              "      <th>no_base_clf</th>\n",
              "      <th>meta_clf</th>\n",
              "      <th>train_auc</th>\n",
              "      <th>test_auc</th>\n",
              "    </tr>\n",
              "  </thead>\n",
              "  <tbody>\n",
              "    <tr>\n",
              "      <th>27</th>\n",
              "      <td>50</td>\n",
              "      <td>CatBoost</td>\n",
              "      <td>0.968702</td>\n",
              "      <td>0.956511</td>\n",
              "    </tr>\n",
              "    <tr>\n",
              "      <th>25</th>\n",
              "      <td>50</td>\n",
              "      <td>LGBM</td>\n",
              "      <td>0.977161</td>\n",
              "      <td>0.956189</td>\n",
              "    </tr>\n",
              "    <tr>\n",
              "      <th>18</th>\n",
              "      <td>20</td>\n",
              "      <td>LGBM</td>\n",
              "      <td>0.974292</td>\n",
              "      <td>0.956008</td>\n",
              "    </tr>\n",
              "    <tr>\n",
              "      <th>26</th>\n",
              "      <td>50</td>\n",
              "      <td>XGBoost</td>\n",
              "      <td>0.979505</td>\n",
              "      <td>0.955917</td>\n",
              "    </tr>\n",
              "    <tr>\n",
              "      <th>13</th>\n",
              "      <td>10</td>\n",
              "      <td>CatBoost</td>\n",
              "      <td>0.964662</td>\n",
              "      <td>0.955814</td>\n",
              "    </tr>\n",
              "    <tr>\n",
              "      <th>32</th>\n",
              "      <td>30</td>\n",
              "      <td>LGBM</td>\n",
              "      <td>0.975435</td>\n",
              "      <td>0.955809</td>\n",
              "    </tr>\n",
              "    <tr>\n",
              "      <th>11</th>\n",
              "      <td>10</td>\n",
              "      <td>LGBM</td>\n",
              "      <td>0.971533</td>\n",
              "      <td>0.955565</td>\n",
              "    </tr>\n",
              "    <tr>\n",
              "      <th>33</th>\n",
              "      <td>30</td>\n",
              "      <td>XGBoost</td>\n",
              "      <td>0.977992</td>\n",
              "      <td>0.955535</td>\n",
              "    </tr>\n",
              "    <tr>\n",
              "      <th>19</th>\n",
              "      <td>20</td>\n",
              "      <td>XGBoost</td>\n",
              "      <td>0.976639</td>\n",
              "      <td>0.955351</td>\n",
              "    </tr>\n",
              "    <tr>\n",
              "      <th>20</th>\n",
              "      <td>20</td>\n",
              "      <td>CatBoost</td>\n",
              "      <td>0.967080</td>\n",
              "      <td>0.955337</td>\n",
              "    </tr>\n",
              "    <tr>\n",
              "      <th>34</th>\n",
              "      <td>30</td>\n",
              "      <td>CatBoost</td>\n",
              "      <td>0.967704</td>\n",
              "      <td>0.955158</td>\n",
              "    </tr>\n",
              "    <tr>\n",
              "      <th>12</th>\n",
              "      <td>10</td>\n",
              "      <td>XGBoost</td>\n",
              "      <td>0.974874</td>\n",
              "      <td>0.954937</td>\n",
              "    </tr>\n",
              "    <tr>\n",
              "      <th>6</th>\n",
              "      <td>5</td>\n",
              "      <td>CatBoost</td>\n",
              "      <td>0.962466</td>\n",
              "      <td>0.954530</td>\n",
              "    </tr>\n",
              "    <tr>\n",
              "      <th>16</th>\n",
              "      <td>20</td>\n",
              "      <td>DecisionTree</td>\n",
              "      <td>0.959814</td>\n",
              "      <td>0.954441</td>\n",
              "    </tr>\n",
              "    <tr>\n",
              "      <th>24</th>\n",
              "      <td>50</td>\n",
              "      <td>RandomForest</td>\n",
              "      <td>0.977545</td>\n",
              "      <td>0.954244</td>\n",
              "    </tr>\n",
              "    <tr>\n",
              "      <th>5</th>\n",
              "      <td>5</td>\n",
              "      <td>XGBoost</td>\n",
              "      <td>0.972356</td>\n",
              "      <td>0.953994</td>\n",
              "    </tr>\n",
              "    <tr>\n",
              "      <th>30</th>\n",
              "      <td>30</td>\n",
              "      <td>DecisionTree</td>\n",
              "      <td>0.960572</td>\n",
              "      <td>0.953681</td>\n",
              "    </tr>\n",
              "    <tr>\n",
              "      <th>2</th>\n",
              "      <td>5</td>\n",
              "      <td>DecisionTree</td>\n",
              "      <td>0.958310</td>\n",
              "      <td>0.953639</td>\n",
              "    </tr>\n",
              "    <tr>\n",
              "      <th>31</th>\n",
              "      <td>30</td>\n",
              "      <td>RandomForest</td>\n",
              "      <td>0.977281</td>\n",
              "      <td>0.953537</td>\n",
              "    </tr>\n",
              "    <tr>\n",
              "      <th>23</th>\n",
              "      <td>50</td>\n",
              "      <td>DecisionTree</td>\n",
              "      <td>0.961506</td>\n",
              "      <td>0.953408</td>\n",
              "    </tr>\n",
              "    <tr>\n",
              "      <th>17</th>\n",
              "      <td>20</td>\n",
              "      <td>RandomForest</td>\n",
              "      <td>0.976660</td>\n",
              "      <td>0.953245</td>\n",
              "    </tr>\n",
              "    <tr>\n",
              "      <th>10</th>\n",
              "      <td>10</td>\n",
              "      <td>RandomForest</td>\n",
              "      <td>0.977135</td>\n",
              "      <td>0.953228</td>\n",
              "    </tr>\n",
              "    <tr>\n",
              "      <th>9</th>\n",
              "      <td>10</td>\n",
              "      <td>DecisionTree</td>\n",
              "      <td>0.958863</td>\n",
              "      <td>0.952696</td>\n",
              "    </tr>\n",
              "    <tr>\n",
              "      <th>22</th>\n",
              "      <td>50</td>\n",
              "      <td>SVM</td>\n",
              "      <td>0.953290</td>\n",
              "      <td>0.952196</td>\n",
              "    </tr>\n",
              "    <tr>\n",
              "      <th>29</th>\n",
              "      <td>30</td>\n",
              "      <td>SVM</td>\n",
              "      <td>0.953000</td>\n",
              "      <td>0.951988</td>\n",
              "    </tr>\n",
              "    <tr>\n",
              "      <th>15</th>\n",
              "      <td>20</td>\n",
              "      <td>SVM</td>\n",
              "      <td>0.952938</td>\n",
              "      <td>0.951780</td>\n",
              "    </tr>\n",
              "    <tr>\n",
              "      <th>3</th>\n",
              "      <td>5</td>\n",
              "      <td>RandomForest</td>\n",
              "      <td>0.975921</td>\n",
              "      <td>0.951663</td>\n",
              "    </tr>\n",
              "    <tr>\n",
              "      <th>4</th>\n",
              "      <td>5</td>\n",
              "      <td>LGBM</td>\n",
              "      <td>0.958913</td>\n",
              "      <td>0.950676</td>\n",
              "    </tr>\n",
              "    <tr>\n",
              "      <th>14</th>\n",
              "      <td>20</td>\n",
              "      <td>LogisticRegression</td>\n",
              "      <td>0.951283</td>\n",
              "      <td>0.950220</td>\n",
              "    </tr>\n",
              "    <tr>\n",
              "      <th>8</th>\n",
              "      <td>10</td>\n",
              "      <td>SVM</td>\n",
              "      <td>0.951366</td>\n",
              "      <td>0.950159</td>\n",
              "    </tr>\n",
              "    <tr>\n",
              "      <th>28</th>\n",
              "      <td>30</td>\n",
              "      <td>LogisticRegression</td>\n",
              "      <td>0.950821</td>\n",
              "      <td>0.949945</td>\n",
              "    </tr>\n",
              "    <tr>\n",
              "      <th>7</th>\n",
              "      <td>10</td>\n",
              "      <td>LogisticRegression</td>\n",
              "      <td>0.950793</td>\n",
              "      <td>0.949670</td>\n",
              "    </tr>\n",
              "    <tr>\n",
              "      <th>21</th>\n",
              "      <td>50</td>\n",
              "      <td>LogisticRegression</td>\n",
              "      <td>0.950456</td>\n",
              "      <td>0.949564</td>\n",
              "    </tr>\n",
              "    <tr>\n",
              "      <th>1</th>\n",
              "      <td>5</td>\n",
              "      <td>SVM</td>\n",
              "      <td>0.949973</td>\n",
              "      <td>0.948339</td>\n",
              "    </tr>\n",
              "    <tr>\n",
              "      <th>0</th>\n",
              "      <td>5</td>\n",
              "      <td>LogisticRegression</td>\n",
              "      <td>0.949902</td>\n",
              "      <td>0.948313</td>\n",
              "    </tr>\n",
              "  </tbody>\n",
              "</table>\n",
              "</div>"
            ],
            "text/plain": [
              "    no_base_clf            meta_clf  train_auc  test_auc\n",
              "27           50            CatBoost   0.968702  0.956511\n",
              "25           50                LGBM   0.977161  0.956189\n",
              "18           20                LGBM   0.974292  0.956008\n",
              "26           50             XGBoost   0.979505  0.955917\n",
              "13           10            CatBoost   0.964662  0.955814\n",
              "32           30                LGBM   0.975435  0.955809\n",
              "11           10                LGBM   0.971533  0.955565\n",
              "33           30             XGBoost   0.977992  0.955535\n",
              "19           20             XGBoost   0.976639  0.955351\n",
              "20           20            CatBoost   0.967080  0.955337\n",
              "34           30            CatBoost   0.967704  0.955158\n",
              "12           10             XGBoost   0.974874  0.954937\n",
              "6             5            CatBoost   0.962466  0.954530\n",
              "16           20        DecisionTree   0.959814  0.954441\n",
              "24           50        RandomForest   0.977545  0.954244\n",
              "5             5             XGBoost   0.972356  0.953994\n",
              "30           30        DecisionTree   0.960572  0.953681\n",
              "2             5        DecisionTree   0.958310  0.953639\n",
              "31           30        RandomForest   0.977281  0.953537\n",
              "23           50        DecisionTree   0.961506  0.953408\n",
              "17           20        RandomForest   0.976660  0.953245\n",
              "10           10        RandomForest   0.977135  0.953228\n",
              "9            10        DecisionTree   0.958863  0.952696\n",
              "22           50                 SVM   0.953290  0.952196\n",
              "29           30                 SVM   0.953000  0.951988\n",
              "15           20                 SVM   0.952938  0.951780\n",
              "3             5        RandomForest   0.975921  0.951663\n",
              "4             5                LGBM   0.958913  0.950676\n",
              "14           20  LogisticRegression   0.951283  0.950220\n",
              "8            10                 SVM   0.951366  0.950159\n",
              "28           30  LogisticRegression   0.950821  0.949945\n",
              "7            10  LogisticRegression   0.950793  0.949670\n",
              "21           50  LogisticRegression   0.950456  0.949564\n",
              "1             5                 SVM   0.949973  0.948339\n",
              "0             5  LogisticRegression   0.949902  0.948313"
            ]
          },
          "execution_count": 16,
          "metadata": {
            "tags": []
          },
          "output_type": "execute_result"
        }
      ]
    },
    {
      "cell_type": "code",
      "metadata": {
        "colab": {
          "base_uri": "https://localhost:8080/",
          "height": 638
        },
        "id": "cNp9UW5YrF3p",
        "outputId": "7514f4d8-7890-43dd-e5ae-a399bb05fb03"
      },
      "source": [
        "#plot perfomances of stacked classifiers\n",
        "sns.set_style(\"darkgrid\")\n",
        "plt.figure(figsize=(12,10))\n",
        "sns.lineplot(data=perfomance,x='no_base_clf',y='test_auc',hue='meta_clf')\n",
        "sns.scatterplot(data=perfomance,x='no_base_clf',y='test_auc',hue='meta_clf',legend=False)\n",
        " \n",
        "sns.lineplot(data=perfomance,x='no_base_clf',y='train_auc',hue='meta_clf',legend=False,linestyle='dashed')\n",
        "sns.scatterplot(data=perfomance,x='no_base_clf',y='train_auc',hue='meta_clf',legend=False)\n",
        " \n",
        "plt.xlabel('no. of base estimators')\n",
        "plt.ylabel('auc')\n",
        "plt.title('Perfomance of stacking models v/s no of base estimators')\n",
        "plt.legend(bbox_to_anchor=(1.05, 1))"
      ],
      "execution_count": null,
      "outputs": [
        {
          "data": {
            "text/plain": [
              "<matplotlib.legend.Legend at 0x7f1ca246dcd0>"
            ]
          },
          "execution_count": 17,
          "metadata": {
            "tags": []
          },
          "output_type": "execute_result"
        },
        {
          "data": {
            "image/png": "[encoded data removed]",
            "text/plain": [
              "<Figure size 864x720 with 1 Axes>"
            ]
          },
          "metadata": {
            "tags": []
          },
          "output_type": "display_data"
        }
      ]
    },
    {
      "cell_type": "markdown",
      "metadata": {
        "id": "uAdgcWFnmdMm"
      },
      "source": [
        "### Obervations:\n",
        "* Comparing perfomances,top scores are achieved by catboost,LGBM and XGBoost classifiers.\n",
        "* In these, LGBM and Catboost achieves high auc scores even with 10-20 base learners whereas XGBoost achieves similar result with 50 base learners.\n"
      ]
    },
    {
      "cell_type": "code",
      "metadata": {
        "colab": {
          "base_uri": "https://localhost:8080/"
        },
        "id": "sMUvOIs2xpDX",
        "outputId": "73d4b1fc-b224-400c-b588-e4fe9073aec3"
      },
      "source": [
        "#experimenting with k=15\n",
        "predictions=predictions.iloc[:,:15]\n",
        "test_predictions=test_predictions.iloc[:,:15]\n",
        "print(predictions.shape,test_predictions.shape)"
      ],
      "execution_count": null,
      "outputs": [
        {
          "name": "stdout",
          "output_type": "stream",
          "text": [
            "(771974, 15) (385987, 15)\n"
          ]
        }
      ]
    },
    {
      "cell_type": "code",
      "metadata": {
        "colab": {
          "base_uri": "https://localhost:8080/",
          "height": 145
        },
        "id": "D2F9vD_6zx2h",
        "outputId": "761b21bb-08b3-47b2-bdda-f16823a2bbfd"
      },
      "source": [
        "model_list=[\n",
        "            (LGBM,'LGBM'),\n",
        "            ([Catboost],'CatBoost')\n",
        "            ]\n",
        "k=15  \n",
        "for meta_clf,name in model_list:\n",
        "  meta_clf=meta_clf[0]\n",
        "  print('Training metaclassifier: ',name)\n",
        "  auc_test,auc_train=train_stacked(predictions,test_predictions, meta_clf)\n",
        "  perfomance.loc[len(perfomance.index)]=[k,name,auc_train,auc_test]\n",
        "  perfomance.to_csv('/content/drive/MyDrive/CS1/perfomance180721.csv')\n",
        "display(perfomance.iloc[-2:])      "
      ],
      "execution_count": null,
      "outputs": [
        {
          "name": "stdout",
          "output_type": "stream",
          "text": [
            "Training metaclassifier:  LGBM\n",
            "Training metaclassifier:  CatBoost\n"
          ]
        },
        {
          "data": {
            "text/html": [
              "<div>\n",
              "<style scoped>\n",
              "    .dataframe tbody tr th:only-of-type {\n",
              "        vertical-align: middle;\n",
              "    }\n",
              "\n",
              "    .dataframe tbody tr th {\n",
              "        vertical-align: top;\n",
              "    }\n",
              "\n",
              "    .dataframe thead th {\n",
              "        text-align: right;\n",
              "    }\n",
              "</style>\n",
              "<table border=\"1\" class=\"dataframe\">\n",
              "  <thead>\n",
              "    <tr style=\"text-align: right;\">\n",
              "      <th></th>\n",
              "      <th>no_base_clf</th>\n",
              "      <th>meta_clf</th>\n",
              "      <th>train_auc</th>\n",
              "      <th>test_auc</th>\n",
              "    </tr>\n",
              "  </thead>\n",
              "  <tbody>\n",
              "    <tr>\n",
              "      <th>35</th>\n",
              "      <td>15</td>\n",
              "      <td>LGBM</td>\n",
              "      <td>0.973787</td>\n",
              "      <td>0.955909</td>\n",
              "    </tr>\n",
              "    <tr>\n",
              "      <th>36</th>\n",
              "      <td>15</td>\n",
              "      <td>CatBoost</td>\n",
              "      <td>0.965999</td>\n",
              "      <td>0.955678</td>\n",
              "    </tr>\n",
              "  </tbody>\n",
              "</table>\n",
              "</div>"
            ],
            "text/plain": [
              "    no_base_clf  meta_clf  train_auc  test_auc\n",
              "35           15      LGBM   0.973787  0.955909\n",
              "36           15  CatBoost   0.965999  0.955678"
            ]
          },
          "metadata": {
            "tags": []
          },
          "output_type": "display_data"
        }
      ]
    },
    {
      "cell_type": "code",
      "metadata": {
        "colab": {
          "background_save": true
        },
        "id": "2i7lZ1-Z4b48",
        "outputId": "77f5c0e5-38eb-4d2b-c579-2355b62617d9"
      },
      "source": [
        "#hyperparameter tuning\n",
        "clf=LGBMClassifier(class_weight='balanced',\n",
        "                   boosting_type='dart',\n",
        "                   min_child_samples=10, \n",
        "                   colsample_bytree=0.6)\n",
        "cv=StratifiedKFold(n_splits = 5)\n",
        "params={'num_leaves':[20,30,40],\n",
        "        'max_depth':[7,8,10],\n",
        "        'n_estimators':[100,200,300,500]\n",
        "        }\n",
        "grid_search = GridSearchCV(clf, param_grid=params,scoring='roc_auc',cv=cv)\n",
        " \n",
        "grid_search.fit(predictions, y2)\n",
        "print(\"best params:\\n\",grid_search.best_params_)"
      ],
      "execution_count": null,
      "outputs": [
        {
          "name": "stdout",
          "output_type": "stream",
          "text": [
            "best params:\n",
            " {'max_depth': 8, 'n_estimators': 100, 'num_leaves': 20}\n"
          ]
        }
      ]
    },
    {
      "cell_type": "code",
      "metadata": {
        "id": "HumMjQ3kBLBM"
      },
      "source": [
        "#training and eveluating with best classifier\n",
        "k=15\n",
        "meta_clf=LGBMClassifier(class_weight='balanced',boosting_type='dart',min_child_samples=10, \n",
        "                              colsample_bytree=0.6,max_depth=8,n_estimators=100,num_leaves= 20),\n",
        "predictions,test_predictions=train_base_clf(k)"
      ],
      "execution_count": null,
      "outputs": []
    },
    {
      "cell_type": "code",
      "metadata": {
        "colab": {
          "base_uri": "https://localhost:8080/"
        },
        "id": "SA4IfoYqRWSh",
        "outputId": "89bf9ac8-f9c9-433e-84a6-c387636525e7"
      },
      "source": [
        "auc_test,auc_train=train_stacked(predictions,test_predictions, meta_clf[0])\n",
        "print('train auc: ',auc_train)\n",
        "print('test auc: ',auc_test)"
      ],
      "execution_count": null,
      "outputs": [
        {
          "name": "stdout",
          "output_type": "stream",
          "text": [
            "train auc:  0.9636244326914832\n",
            "test auc:  0.9552587461202098\n"
          ]
        }
      ]
    },
    {
      "cell_type": "markdown",
      "metadata": {
        "id": "QmuAc9sNOVu-"
      },
      "source": [
        "\n",
        "\n",
        "---\n",
        "\n",
        "\n",
        "\n",
        "---\n",
        "\n",
        "\n",
        "\n",
        "---\n",
        "\n",
        "\n",
        "\n",
        "---\n",
        "\n"
      ]
    },
    {
      "cell_type": "markdown",
      "metadata": {
        "id": "3BAk6sxGVRjy"
      },
      "source": [
        "## Feature Selection"
      ]
    },
    {
      "cell_type": "code",
      "metadata": {
        "id": "W0cOOD5J_Pjp"
      },
      "source": [
        "LogisticRegression=SGDClassifier(loss='log',class_weight='balanced',max_iter=5000,penalty='l2',alpha=0.0001),\n",
        "DecisionTree=DecisionTreeClassifier(class_weight='balanced',min_samples_split=5, max_depth=6, criterion='entropy'),\n",
        "RandomForest=RandomForestClassifier(class_weight= 'balanced_subsample', max_depth=12, n_estimators=300),"
      ],
      "execution_count": null,
      "outputs": []
    },
    {
      "cell_type": "code",
      "metadata": {
        "id": "T1vEqtBJ_c-N"
      },
      "source": [
        "# Linear model feature importance  #coef\n",
        "clf=LogisticRegression[0]\n",
        "clf.fit(X1,y1)\n",
        "importance = clf.coef_[0]\n",
        "# summarize feature importance\n",
        "for i,v in enumerate(importance):\n",
        "\tprint('Feature: %0d, Score: %.5f' % (i,v))\n"
      ],
      "execution_count": null,
      "outputs": []
    },
    {
      "cell_type": "code",
      "metadata": {
        "colab": {
          "base_uri": "https://localhost:8080/",
          "height": 571
        },
        "id": "us2xZ-jCBFUf",
        "outputId": "3e495399-95be-4914-a913-8fbb49497e12"
      },
      "source": [
        "plt.figure(figsize=(12,8))\n",
        "plt.bar(list(X1.columns), importance)\n",
        "plt.xticks(rotation=90)\n",
        "plt.grid()\n",
        "plt.show()"
      ],
      "execution_count": null,
      "outputs": [
        {
          "data": {
            "image/png": "[encoded data removed]",
            "text/plain": [
              "<Figure size 864x576 with 1 Axes>"
            ]
          },
          "metadata": {
            "tags": []
          },
          "output_type": "display_data"
        }
      ]
    },
    {
      "cell_type": "code",
      "metadata": {
        "colab": {
          "base_uri": "https://localhost:8080/",
          "height": 945
        },
        "id": "6qXbOog6DNto",
        "outputId": "1f9f8267-3b9e-47e8-c7e0-2627b6f9f8e9"
      },
      "source": [
        "#tree based model feature importance\n",
        "clf=DecisionTree[0]\n",
        "clf.fit(X1,y1)\n",
        "importance = clf.feature_importances_\n",
        "# summarize feature importance\n",
        "for i,v in enumerate(importance):\n",
        "\tprint('Feature: %0d, Score: %.5f' % (i,v))\n",
        "plt.figure(figsize=(12,8))\n",
        "plt.bar(list(X1.columns), importance)\n",
        "plt.xticks(rotation=90)\n",
        "plt.grid()\n",
        "plt.show()"
      ],
      "execution_count": null,
      "outputs": [
        {
          "name": "stdout",
          "output_type": "stream",
          "text": [
            "Feature: 0, Score: 0.11320\n",
            "Feature: 1, Score: 0.04309\n",
            "Feature: 2, Score: 0.03390\n",
            "Feature: 3, Score: 0.09228\n",
            "Feature: 4, Score: 0.09193\n",
            "Feature: 5, Score: 0.00145\n",
            "Feature: 6, Score: 0.00000\n",
            "Feature: 7, Score: 0.00056\n",
            "Feature: 8, Score: 0.00601\n",
            "Feature: 9, Score: 0.00173\n",
            "Feature: 10, Score: 0.00152\n",
            "Feature: 11, Score: 0.00193\n",
            "Feature: 12, Score: 0.00000\n",
            "Feature: 13, Score: 0.00000\n",
            "Feature: 14, Score: 0.00118\n",
            "Feature: 15, Score: 0.00000\n",
            "Feature: 16, Score: 0.00050\n",
            "Feature: 17, Score: 0.00204\n",
            "Feature: 18, Score: 0.60869\n",
            "Feature: 19, Score: 0.00000\n",
            "Feature: 20, Score: 0.00000\n",
            "Feature: 21, Score: 0.00000\n"
          ]
        },
        {
          "data": {
            "image/png": "[encoded data removed]",
            "text/plain": [
              "<Figure size 864x576 with 1 Axes>"
            ]
          },
          "metadata": {
            "tags": []
          },
          "output_type": "display_data"
        }
      ]
    },
    {
      "cell_type": "code",
      "metadata": {
        "colab": {
          "base_uri": "https://localhost:8080/",
          "height": 945
        },
        "id": "1D0x9DxcEmQu",
        "outputId": "6890751a-4e6b-40e7-cc67-c921906e8ef7"
      },
      "source": [
        "# tree based enemble feature importance\n",
        "clf=RandomForest[0]\n",
        "clf.fit(X1,y1)\n",
        "importance = clf.feature_importances_\n",
        "# summarize feature importance\n",
        "for i,v in enumerate(importance):\n",
        "\tprint('Feature: %0d, Score: %.5f' % (i,v))\n",
        "plt.figure(figsize=(12,8))\n",
        "plt.bar(list(X1.columns), importance)\n",
        "plt.xticks(rotation=90)\n",
        "plt.grid()\n",
        "plt.show()"
      ],
      "execution_count": null,
      "outputs": [
        {
          "name": "stdout",
          "output_type": "stream",
          "text": [
            "Feature: 0, Score: 0.12153\n",
            "Feature: 1, Score: 0.03662\n",
            "Feature: 2, Score: 0.03264\n",
            "Feature: 3, Score: 0.15728\n",
            "Feature: 4, Score: 0.07243\n",
            "Feature: 5, Score: 0.02422\n",
            "Feature: 6, Score: 0.00011\n",
            "Feature: 7, Score: 0.00532\n",
            "Feature: 8, Score: 0.02606\n",
            "Feature: 9, Score: 0.02623\n",
            "Feature: 10, Score: 0.00951\n",
            "Feature: 11, Score: 0.00630\n",
            "Feature: 12, Score: 0.00006\n",
            "Feature: 13, Score: 0.00362\n",
            "Feature: 14, Score: 0.00253\n",
            "Feature: 15, Score: 0.00020\n",
            "Feature: 16, Score: 0.00223\n",
            "Feature: 17, Score: 0.04732\n",
            "Feature: 18, Score: 0.26068\n",
            "Feature: 19, Score: 0.09527\n",
            "Feature: 20, Score: 0.00835\n",
            "Feature: 21, Score: 0.06150\n"
          ]
        },
        {
          "data": {
            "image/png": "[encoded data removed]",
            "text/plain": [
              "<Figure size 864x576 with 1 Axes>"
            ]
          },
          "metadata": {
            "tags": []
          },
          "output_type": "display_data"
        }
      ]
    },
    {
      "cell_type": "code",
      "metadata": {
        "colab": {
          "base_uri": "https://localhost:8080/"
        },
        "id": "TXFj6VK-HPHS",
        "outputId": "82eb6fa6-789b-4a6a-8fb8-2c13b974cc9b"
      },
      "source": [
        "#dropping least important features\n",
        "X1=D1.drop(['potential_issue', 'ppap_risk','local_bo_qty','rev_stop','oe_constraint','forecast_6_month',\n",
        "            'forecast_9_month','sales_1_month','sales_6_month','sales_9_month'],axis=1)\n",
        "print(X1.shape)\n",
        " \n",
        "y2=D2['went_on_backorder']\n",
        "X2=D2.drop(['potential_issue', 'ppap_risk','local_bo_qty','rev_stop','oe_constraint','sku','went_on_backorder','forecast_6_month','forecast_9_month','sales_1_month','sales_6_month','sales_9_month'],axis=1)\n",
        "print(X2.shape,y2.shape)\n",
        " \n",
        "y_test=test['went_on_backorder']\n",
        "X_test=test.drop(['potential_issue', 'ppap_risk','local_bo_qty','rev_stop','oe_constraint','sku','went_on_backorder','forecast_6_month','forecast_9_month','sales_1_month','sales_6_month','sales_9_month'],axis=1)\n",
        "print(X_test.shape,y_test.shape)"
      ],
      "execution_count": null,
      "outputs": [
        {
          "output_type": "stream",
          "name": "stdout",
          "text": [
            "(771974, 19)\n",
            "(771974, 17) (771974,)\n",
            "(385987, 17) (385987,)\n"
          ]
        }
      ]
    },
    {
      "cell_type": "code",
      "metadata": {
        "colab": {
          "base_uri": "https://localhost:8080/"
        },
        "id": "6_ggAKLOaqH4",
        "outputId": "f4433f7c-ce1b-4104-cf7a-3be645449c5e"
      },
      "source": [
        "X1=X1.drop('Unnamed: 0',axis=1)\n",
        "X2=X2.drop('Unnamed: 0',axis=1)\n",
        "X_test=X_test.drop('Unnamed: 0',axis=1)\n",
        "X1.shape,X2.shape,X_test.shape"
      ],
      "execution_count": null,
      "outputs": [
        {
          "output_type": "execute_result",
          "data": {
            "text/plain": [
              "((771974, 18), (771974, 16), (385987, 16))"
            ]
          },
          "metadata": {},
          "execution_count": 17
        }
      ]
    },
    {
      "cell_type": "code",
      "metadata": {
        "colab": {
          "base_uri": "https://localhost:8080/"
        },
        "id": "B010jrbxblJI",
        "outputId": "73f5a747-d6b9-44e2-f8c0-71af72a6fa26"
      },
      "source": [
        "X1.shape,X2.shape,X_test.shape"
      ],
      "execution_count": null,
      "outputs": [
        {
          "output_type": "execute_result",
          "data": {
            "text/plain": [
              "((771974, 18), (771974, 16), (385987, 16))"
            ]
          },
          "metadata": {},
          "execution_count": 22
        }
      ]
    },
    {
      "cell_type": "code",
      "metadata": {
        "id": "9WPLpBHCRRYF"
      },
      "source": [
        "def train_base_clf(k):\n",
        "  '''This function trains the given no.of classifiers on different subsets of data and returns the predictions'''\n",
        "  LogisticRegression=SGDClassifier(loss='log',class_weight='balanced',max_iter=5000,penalty='l2',alpha=0.0001),\n",
        "  SVM=SGDClassifier(loss='hinge',class_weight='balanced',max_iter=5000,penalty='l2',alpha=0.001),\n",
        "  DecisionTree=DecisionTreeClassifier(class_weight='balanced',min_samples_split=5, max_depth=6, criterion='entropy'),\n",
        "  RandomForest=RandomForestClassifier(class_weight= 'balanced_subsample', max_depth=12, n_estimators=300),\n",
        "  LGBM=LGBMClassifier(class_weight='balanced',boosting_type='dart',min_child_samples=10, \n",
        "                              colsample_bytree=0.6,max_depth=10,n_estimators=300,num_leaves= 40),\n",
        "  XGBoost=XGBClassifier(colsample_bytree=0.6,scale_pos_weight=80, n_estimators= 50,max_depth=8),\n",
        "  Catboost=CatBoostClassifier(logging_level='Silent',auto_class_weights='Balanced',max_depth=4,n_estimators=70)\n",
        "            \n",
        "  model_list=[LogisticRegression,SVM,DecisionTree,RandomForest,LGBM,XGBoost,[Catboost]]\n",
        "  predictions=pd.DataFrame()\n",
        "  test_predictions=pd.DataFrame()\n",
        "  print('training started..')\n",
        "  \n",
        "  for i in range(k):\n",
        "    current_model=model_list[i%len(model_list)][0]\n",
        "    \n",
        "    #sample data\n",
        "    X,y=sample_df(X1,0.5)   \n",
        "    \n",
        "    #train  \n",
        "    if (i+1) % 5==0:\n",
        "      print('training base model ',i+1)                           \n",
        "    calibrated = CalibratedClassifierCV(current_model, method='sigmoid', cv=5)\n",
        "    calibrated.fit(X,y)\n",
        "    joblib.dump(calibrated,'/content/drive/MyDrive/CS1_bo_files/model'+str(i+1)+'.pkl')\n",
        "    print('saved /content/drive/MyDrive/CS1_bo_files/model'+str(i+1)+'.pkl')\n",
        "    \n",
        "    #prediction on holdout data D2\n",
        "    y_pred=calibrated.predict_proba(X2)[:,1]\n",
        "  \n",
        "    #prediction on test data \n",
        "    test_pred=calibrated.predict_proba(X_test)[:,1]\n",
        "  \n",
        "    #record predictions\n",
        "    predictions[str(i)]=y_pred\n",
        "    test_predictions[str(i)]=test_pred\n",
        "  joblib.dump(predictions,'/content/drive/MyDrive/CS1_bo_files/predictions.pkl')\n",
        "  joblib.dump(test_predictions,'/content/drive/MyDrive/CS1_bo_files/test_predictions.pkl')\n",
        "  return predictions,test_predictions"
      ],
      "execution_count": null,
      "outputs": []
    },
    {
      "cell_type": "code",
      "metadata": {
        "id": "3V_byeXCoMof"
      },
      "source": [
        "k=15\n",
        "predictions,test_predictions=train_base_clf(k)"
      ],
      "execution_count": null,
      "outputs": []
    },
    {
      "cell_type": "code",
      "metadata": {
        "id": "8wWG_t2lTlu4"
      },
      "source": [
        "def train_stacked(predictions,test_predictions, meta_clf):\n",
        "  '''This function trains the given meta classifier on given set of predictions by base estimators'''\n",
        "  #meta classifier\n",
        "  meta_clf=meta_clf\n",
        "  X_meta=predictions\n",
        "  X_test_meta=test_predictions\n",
        "        \n",
        "  #train                               \n",
        "  calibrated = CalibratedClassifierCV(meta_clf, method='sigmoid', cv=5)\n",
        "  calibrated.fit(X_meta,y2)\n",
        "      \n",
        "  joblib.dump(calibrated,'/content/drive/MyDrive/CS1_bo_files/metaclf_.pkl')\n",
        "\n",
        "  #predict probabilities on train data\n",
        "  yhat=calibrated.predict_proba(X_meta)[:,1]\n",
        " \n",
        "  #prediction on test data \n",
        "  test_pred=calibrated.predict_proba(X_test_meta)[:,1]\n",
        "      \n",
        "  #compute auc score and \n",
        "  auc_train=roc_auc_score(y2,yhat)\n",
        "  auc_test=roc_auc_score(y_test,test_pred)\n",
        "  return auc_test,auc_train"
      ],
      "execution_count": null,
      "outputs": []
    },
    {
      "cell_type": "code",
      "metadata": {
        "id": "cPjeSOImTWNb"
      },
      "source": [
        "meta_clf=LGBMClassifier(class_weight='balanced',boosting_type='dart',min_child_samples=10, \n",
        "                              colsample_bytree=0.6,max_depth=8,n_estimators=100,num_leaves= 20)"
      ],
      "execution_count": null,
      "outputs": []
    },
    {
      "cell_type": "code",
      "metadata": {
        "colab": {
          "base_uri": "https://localhost:8080/"
        },
        "id": "y9vfzvaC_lv9",
        "outputId": "dd8cfc6a-688e-4054-8eef-061563cd78e5"
      },
      "source": [
        "#15\n",
        "auc_test,auc_train=train_stacked(predictions,test_predictions, meta_clf)\n",
        "print('train auc: ',auc_train)\n",
        "print('test auc: ',auc_test)"
      ],
      "execution_count": null,
      "outputs": [
        {
          "name": "stdout",
          "output_type": "stream",
          "text": [
            "train auc:  0.9611948724866899\n",
            "test auc:  0.9517816774057353\n"
          ]
        }
      ]
    },
    {
      "cell_type": "markdown",
      "metadata": {
        "id": "TSyNZJcEHEaj"
      },
      "source": [
        "\n",
        "\n",
        "---\n",
        "\n",
        "\n",
        "\n",
        "---\n",
        "\n"
      ]
    },
    {
      "cell_type": "markdown",
      "metadata": {
        "id": "G-POg-NSUS6F"
      },
      "source": [
        "## Decision Thresholding"
      ]
    },
    {
      "cell_type": "code",
      "metadata": {
        "id": "dbKdJimWWZS1"
      },
      "source": [
        "meta_clf=joblib.load('/content/drive/MyDrive/CS1_bo/metaclf_.pkl')"
      ],
      "execution_count": null,
      "outputs": []
    },
    {
      "cell_type": "code",
      "metadata": {
        "colab": {
          "base_uri": "https://localhost:8080/"
        },
        "id": "916iEBKx8pM4",
        "outputId": "929589ee-8bce-4906-a8c0-6de52e8d2638"
      },
      "source": [
        "y_predicted=meta_clf.predict(predictions)\n",
        "y_proba_predicted=meta_clf.predict_proba(predictions)[:,1]\n",
        "print('train_auc:',roc_auc_score(y2,y_proba_predicted))\n",
        "print(classification_report(y2,y_predicted,zero_division=0))"
      ],
      "execution_count": null,
      "outputs": [
        {
          "name": "stdout",
          "output_type": "stream",
          "text": [
            "train_auc: 0.9611948724866899\n",
            "              precision    recall  f1-score   support\n",
            "\n",
            "           0       0.99      1.00      1.00    766382\n",
            "           1       0.00      0.00      0.00      5592\n",
            "\n",
            "    accuracy                           0.99    771974\n",
            "   macro avg       0.50      0.50      0.50    771974\n",
            "weighted avg       0.99      0.99      0.99    771974\n",
            "\n"
          ]
        }
      ]
    },
    {
      "cell_type": "code",
      "metadata": {
        "colab": {
          "base_uri": "https://localhost:8080/"
        },
        "id": "GJjdsaVbuQFw",
        "outputId": "c12954b2-fec9-430b-ff91-1174d0dfd397"
      },
      "source": [
        "y_test_predicted=meta_clf.predict(test_predictions)\n",
        "y_test_proba_predicted=meta_clf.predict_proba(test_predictions)[:,1]\n",
        "print('test_auc:',roc_auc_score(y_test,y_test_proba_predicted))\n",
        "print(classification_report(y_test,y_test_predicted,zero_division=0))"
      ],
      "execution_count": null,
      "outputs": [
        {
          "name": "stdout",
          "output_type": "stream",
          "text": [
            "test_auc: 0.9517816774057353\n",
            "              precision    recall  f1-score   support\n",
            "\n",
            "           0       0.99      1.00      1.00    383191\n",
            "           1       0.00      0.00      0.00      2796\n",
            "\n",
            "    accuracy                           0.99    385987\n",
            "   macro avg       0.50      0.50      0.50    385987\n",
            "weighted avg       0.99      0.99      0.99    385987\n",
            "\n"
          ]
        }
      ]
    },
    {
      "cell_type": "code",
      "metadata": {
        "id": "i-fyyr5C4PJO"
      },
      "source": [
        "from sklearn.metrics import roc_curve"
      ],
      "execution_count": null,
      "outputs": []
    },
    {
      "cell_type": "code",
      "metadata": {
        "colab": {
          "base_uri": "https://localhost:8080/",
          "height": 312
        },
        "id": "cMx3xkQquuc_",
        "outputId": "3e4bbf7e-d3b2-4f29-b4d0-54a31c5d903c"
      },
      "source": [
        "fpr,tpr,thresholds=roc_curve(y2,y_proba_predicted)\n",
        "gmeans=np.sqrt(tpr*(1-fpr))\n",
        "ix=np.argmax(gmeans)\n",
        "print('Best Threshold=%f, G-Mean=%.3f' % (thresholds[ix], gmeans[ix]))\n",
        "# plot the roc curve for the model\n",
        "plt.plot([0,1], [0,1], linestyle='--', label='No Skill')\n",
        "plt.plot(fpr, tpr, label='meta model')\n",
        "plt.scatter(fpr[ix], tpr[ix], marker='o', color='black', label='Best')\n",
        "# axis labels\n",
        "plt.xlabel('False Positive Rate')\n",
        "plt.ylabel('True Positive Rate')\n",
        "plt.title(\"ROC curve\")\n",
        "plt.legend()\n",
        "# show the plot\n",
        "plt.show()"
      ],
      "execution_count": null,
      "outputs": [
        {
          "name": "stdout",
          "output_type": "stream",
          "text": [
            "Best Threshold=0.007954, G-Mean=0.899\n"
          ]
        },
        {
          "data": {
            "image/png": "[encoded data removed]",
            "text/plain": [
              "<Figure size 432x288 with 1 Axes>"
            ]
          },
          "metadata": {
            "tags": []
          },
          "output_type": "display_data"
        }
      ]
    },
    {
      "cell_type": "code",
      "metadata": {
        "id": "oI0iDS6tyCEC"
      },
      "source": [
        "threshold=0.007954\n",
        "y_label_predicted=[(prob>threshold).astype('int32') for prob in y_proba_predicted]\n",
        "y_test_label_predicted=[(prob>threshold).astype('int32') for prob in y_test_proba_predicted]"
      ],
      "execution_count": null,
      "outputs": []
    },
    {
      "cell_type": "code",
      "metadata": {
        "colab": {
          "base_uri": "https://localhost:8080/"
        },
        "id": "mdf1fP1a95MN",
        "outputId": "38535f86-e39b-4a1a-c60b-ec409cee18e8"
      },
      "source": [
        "print('train:')\n",
        "print(classification_report(y2,y_label_predicted))\n",
        "print('='*60)\n",
        "print('test:')\n",
        "print(classification_report(y_test,y_test_label_predicted,))"
      ],
      "execution_count": null,
      "outputs": [
        {
          "name": "stdout",
          "output_type": "stream",
          "text": [
            "train:\n",
            "              precision    recall  f1-score   support\n",
            "\n",
            "           0       1.00      0.89      0.94    766382\n",
            "           1       0.06      0.91      0.11      5592\n",
            "\n",
            "    accuracy                           0.89    771974\n",
            "   macro avg       0.53      0.90      0.52    771974\n",
            "weighted avg       0.99      0.89      0.93    771974\n",
            "\n",
            "============================================================\n",
            "test:\n",
            "              precision    recall  f1-score   support\n",
            "\n",
            "           0       1.00      0.89      0.94    383191\n",
            "           1       0.05      0.89      0.10      2796\n",
            "\n",
            "    accuracy                           0.89    385987\n",
            "   macro avg       0.53      0.89      0.52    385987\n",
            "weighted avg       0.99      0.89      0.93    385987\n",
            "\n"
          ]
        }
      ]
    }
  ]
}